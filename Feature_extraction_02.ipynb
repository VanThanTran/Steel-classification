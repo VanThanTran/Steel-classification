{
  "nbformat": 4,
  "nbformat_minor": 0,
  "metadata": {
    "colab": {
      "name": "Feature_extraction_02.ipynb",
      "provenance": [],
      "collapsed_sections": []
    },
    "kernelspec": {
      "name": "python3",
      "display_name": "Python 3"
    },
    "accelerator": "GPU"
  },
  "cells": [
    {
      "cell_type": "markdown",
      "metadata": {
        "id": "BZyVDIjSAfmC"
      },
      "source": [
        "**References:**\n",
        "\n",
        "1. https://keras.io/api/applications/\n",
        "2. https://keras.io/guides/transfer_learning/"
      ]
    },
    {
      "cell_type": "code",
      "metadata": {
        "colab": {
          "base_uri": "https://localhost:8080/"
        },
        "id": "RTTlbczRfH-a",
        "outputId": "c2646d03-c75e-4899-8108-1a367dbc9ed1"
      },
      "source": [
        "!nvidia-smi"
      ],
      "execution_count": null,
      "outputs": [
        {
          "output_type": "stream",
          "text": [
            "Tue Aug 17 13:19:08 2021       \n",
            "+-----------------------------------------------------------------------------+\n",
            "| NVIDIA-SMI 470.57.02    Driver Version: 460.32.03    CUDA Version: 11.2     |\n",
            "|-------------------------------+----------------------+----------------------+\n",
            "| GPU  Name        Persistence-M| Bus-Id        Disp.A | Volatile Uncorr. ECC |\n",
            "| Fan  Temp  Perf  Pwr:Usage/Cap|         Memory-Usage | GPU-Util  Compute M. |\n",
            "|                               |                      |               MIG M. |\n",
            "|===============================+======================+======================|\n",
            "|   0  Tesla K80           Off  | 00000000:00:04.0 Off |                    0 |\n",
            "| N/A   67C    P8    31W / 149W |      0MiB / 11441MiB |      0%      Default |\n",
            "|                               |                      |                  N/A |\n",
            "+-------------------------------+----------------------+----------------------+\n",
            "                                                                               \n",
            "+-----------------------------------------------------------------------------+\n",
            "| Processes:                                                                  |\n",
            "|  GPU   GI   CI        PID   Type   Process name                  GPU Memory |\n",
            "|        ID   ID                                                   Usage      |\n",
            "|=============================================================================|\n",
            "|  No running processes found                                                 |\n",
            "+-----------------------------------------------------------------------------+\n"
          ],
          "name": "stdout"
        }
      ]
    },
    {
      "cell_type": "markdown",
      "metadata": {
        "id": "fiekGKK4fM4i"
      },
      "source": [
        "P100"
      ]
    },
    {
      "cell_type": "code",
      "metadata": {
        "colab": {
          "base_uri": "https://localhost:8080/"
        },
        "id": "FyCz0iFB0SjH",
        "outputId": "96ccbba7-636f-494c-95cb-34bdce8b24e9"
      },
      "source": [
        "from google.colab import drive\n",
        "drive.mount('/content/gdrive')"
      ],
      "execution_count": null,
      "outputs": [
        {
          "output_type": "stream",
          "text": [
            "Mounted at /content/gdrive\n"
          ],
          "name": "stdout"
        }
      ]
    },
    {
      "cell_type": "code",
      "metadata": {
        "id": "ZRapTj3ohzUB",
        "colab": {
          "base_uri": "https://localhost:8080/"
        },
        "outputId": "e3a267f1-ac6f-4248-f4fe-992698c97979"
      },
      "source": [
        "%cd '/content/gdrive/MyDrive/SVNCKH'\n",
        "! ls"
      ],
      "execution_count": null,
      "outputs": [
        {
          "output_type": "stream",
          "text": [
            "/content/gdrive/MyDrive/SVNCKH\n",
            "Database\t\t     train_accuracy_01.png  valid_loss_01.png\n",
            "Feature_extraction_01.ipynb  train_loss_01.png\n",
            "Feature_extraction_02.ipynb  valid_accuracy_01.png\n"
          ],
          "name": "stdout"
        }
      ]
    },
    {
      "cell_type": "code",
      "metadata": {
        "id": "hO8Jknle1FMT"
      },
      "source": [
        "# import the basic libraries\n",
        "import numpy as np\n",
        "import tensorflow as tf \n",
        "from tensorflow import keras\n",
        "import matplotlib.pyplot as plt\n",
        "from keras.models import Model, Sequential\n",
        "from keras.layers import Input, Dense, Activation, Flatten, Reshape, ReLU\n",
        "from keras.layers import Conv2D, MaxPooling2D, BatchNormalization, Dropout\n",
        "from keras.layers import GlobalAveragePooling2D, Concatenate, Lambda\n",
        "from keras.optimizers import Adam, RMSprop, Nadam, SGD, Adagrad\n",
        "from keras.preprocessing import image\n",
        "from keras.preprocessing.image import ImageDataGenerator\n",
        "from tensorflow.keras import layers\n",
        "from glob import glob"
      ],
      "execution_count": null,
      "outputs": []
    },
    {
      "cell_type": "markdown",
      "metadata": {
        "id": "lF6uFcpH1hZh"
      },
      "source": [
        "**DenseNet121**"
      ]
    },
    {
      "cell_type": "markdown",
      "metadata": {
        "id": "jOVjGs-_Qwvp"
      },
      "source": [
        "SGD"
      ]
    },
    {
      "cell_type": "code",
      "metadata": {
        "id": "NUe_XYIIQ7H4"
      },
      "source": [
        "from keras.applications.densenet import DenseNet121\n",
        "from keras.applications.densenet import preprocess_input\n",
        "\n",
        "# re-size all the images to this\n",
        "IMAGE_SIZE = [224, 224]\n",
        "\n",
        "train_path = '/content/gdrive/MyDrive/SVNCKH/Database/train'\n",
        "valid_path = '/content/gdrive/MyDrive/SVNCKH/Database/valid'\n",
        "test_path = '/content/gdrive/MyDrive/SVNCKH/Database/test'"
      ],
      "execution_count": null,
      "outputs": []
    },
    {
      "cell_type": "code",
      "metadata": {
        "id": "y3q3lJ1zQ9Xx"
      },
      "source": [
        "# add preprocessing layer to the front of DenseNet\n",
        "densenet_sgd = DenseNet121(input_shape=IMAGE_SIZE + [3], weights='imagenet', include_top=False)"
      ],
      "execution_count": null,
      "outputs": []
    },
    {
      "cell_type": "code",
      "metadata": {
        "id": "Pbkj1tWNQ_aL"
      },
      "source": [
        "# don't train existing weights\n",
        "for layer in densenet_sgd.layers:\n",
        "  layer.trainable = False"
      ],
      "execution_count": null,
      "outputs": []
    },
    {
      "cell_type": "code",
      "metadata": {
        "id": "N9CpjvOCRBs-"
      },
      "source": [
        "# useful for getting number of classes\n",
        "folders = glob('/content/gdrive/MyDrive/SVNCKH/Database/train/*')"
      ],
      "execution_count": null,
      "outputs": []
    },
    {
      "cell_type": "code",
      "metadata": {
        "id": "ZKbRIG7mRDyH"
      },
      "source": [
        "# our layers - you can add more if you want\n",
        "x = Flatten()(densenet_sgd.output)"
      ],
      "execution_count": null,
      "outputs": []
    },
    {
      "cell_type": "code",
      "metadata": {
        "id": "ewD_fWaHRGJQ"
      },
      "source": [
        "#x = Dense(3, activation='relu')(x)\n",
        "prediction = Dense(len(folders), activation='softmax')(x)"
      ],
      "execution_count": null,
      "outputs": []
    },
    {
      "cell_type": "code",
      "metadata": {
        "id": "Cyo148-DRIrx"
      },
      "source": [
        "# create a model object\n",
        "model = Model(inputs=densenet_sgd.input, outputs=prediction)"
      ],
      "execution_count": null,
      "outputs": []
    },
    {
      "cell_type": "code",
      "metadata": {
        "id": "XfRH_jhtRLJJ"
      },
      "source": [
        "# tell the model what cost and optimization method to use\n",
        "model.compile(\n",
        "  loss='categorical_crossentropy',\n",
        "  optimizer='sgd',\n",
        "  metrics=['accuracy']\n",
        ")"
      ],
      "execution_count": null,
      "outputs": []
    },
    {
      "cell_type": "code",
      "metadata": {
        "colab": {
          "base_uri": "https://localhost:8080/"
        },
        "id": "EFKd4XfdRPhF",
        "outputId": "c4044747-86e7-49d9-9366-e03692fb4204"
      },
      "source": [
        "# Add our data-augmentation parameters to ImageDataGenerator\n",
        "train_datagen = ImageDataGenerator(rescale = 1./255,\n",
        "                                   shear_range = 0.2,\n",
        "                                   zoom_range = 0.2,\n",
        "                                   horizontal_flip = True)\n",
        "\n",
        "valid_datagen = ImageDataGenerator(rescale = 1./255)\n",
        "test_datagen = ImageDataGenerator(rescale = 1./255)\n",
        "\n",
        "# Flow training images in batches of 64 using train_datagen generator\n",
        "training_set = train_datagen.flow_from_directory(train_path,\n",
        "                                                 target_size = (224, 224),\n",
        "                                                 batch_size = 64,\n",
        "                                                 class_mode = 'categorical')\n",
        "\n",
        "valid_set = valid_datagen.flow_from_directory(valid_path,\n",
        "                                                 target_size = (224, 224),\n",
        "                                                 batch_size = 64,\n",
        "                                                 class_mode = 'categorical')\n",
        "\n",
        "test_set = test_datagen.flow_from_directory(test_path,\n",
        "                                            target_size = (224, 224),\n",
        "                                            batch_size = 64,\n",
        "                                            class_mode = 'categorical')"
      ],
      "execution_count": null,
      "outputs": [
        {
          "output_type": "stream",
          "text": [
            "Found 1260 images belonging to 6 classes.\n",
            "Found 270 images belonging to 6 classes.\n",
            "Found 270 images belonging to 6 classes.\n"
          ],
          "name": "stdout"
        }
      ]
    },
    {
      "cell_type": "code",
      "metadata": {
        "colab": {
          "base_uri": "https://localhost:8080/"
        },
        "id": "wWhsvHfSRSWx",
        "outputId": "ca3df4ac-c9c3-4cb6-9162-73e99c7542e7"
      },
      "source": [
        "# fit the model\n",
        "densenet_sgd = model.fit(\n",
        "  training_set,\n",
        "  validation_data=valid_set,\n",
        "  epochs=30,\n",
        "  steps_per_epoch=len(training_set),\n",
        "  validation_steps=len(valid_set)\n",
        ")"
      ],
      "execution_count": null,
      "outputs": [
        {
          "output_type": "stream",
          "text": [
            "Epoch 1/30\n",
            "20/20 [==============================] - 797s 36s/step - loss: 8.4929 - accuracy: 0.4316 - val_loss: 0.7329 - val_accuracy: 0.8519\n",
            "Epoch 2/30\n",
            "20/20 [==============================] - 20s 1s/step - loss: 0.6480 - accuracy: 0.9329 - val_loss: 0.1540 - val_accuracy: 0.9481\n",
            "Epoch 3/30\n",
            "20/20 [==============================] - 20s 1s/step - loss: 0.0311 - accuracy: 0.9890 - val_loss: 0.1204 - val_accuracy: 0.9667\n",
            "Epoch 4/30\n",
            "20/20 [==============================] - 20s 999ms/step - loss: 0.0306 - accuracy: 0.9907 - val_loss: 0.1281 - val_accuracy: 0.9519\n",
            "Epoch 5/30\n",
            "20/20 [==============================] - 20s 998ms/step - loss: 0.0167 - accuracy: 0.9946 - val_loss: 0.0849 - val_accuracy: 0.9704\n",
            "Epoch 6/30\n",
            "20/20 [==============================] - 20s 1s/step - loss: 0.0122 - accuracy: 0.9943 - val_loss: 0.0618 - val_accuracy: 0.9778\n",
            "Epoch 7/30\n",
            "20/20 [==============================] - 20s 996ms/step - loss: 0.0108 - accuracy: 0.9970 - val_loss: 0.0581 - val_accuracy: 0.9741\n",
            "Epoch 8/30\n",
            "20/20 [==============================] - 20s 999ms/step - loss: 0.0170 - accuracy: 0.9902 - val_loss: 0.0593 - val_accuracy: 0.9815\n",
            "Epoch 9/30\n",
            "20/20 [==============================] - 20s 996ms/step - loss: 0.0122 - accuracy: 0.9961 - val_loss: 0.0511 - val_accuracy: 0.9778\n",
            "Epoch 10/30\n",
            "20/20 [==============================] - 20s 1000ms/step - loss: 0.0140 - accuracy: 0.9961 - val_loss: 0.0372 - val_accuracy: 0.9815\n",
            "Epoch 11/30\n",
            "20/20 [==============================] - 20s 995ms/step - loss: 0.0081 - accuracy: 0.9964 - val_loss: 0.0352 - val_accuracy: 0.9852\n",
            "Epoch 12/30\n",
            "20/20 [==============================] - 20s 994ms/step - loss: 0.0071 - accuracy: 0.9988 - val_loss: 0.0550 - val_accuracy: 0.9778\n",
            "Epoch 13/30\n",
            "20/20 [==============================] - 20s 999ms/step - loss: 0.0053 - accuracy: 0.9990 - val_loss: 0.0549 - val_accuracy: 0.9778\n",
            "Epoch 14/30\n",
            "20/20 [==============================] - 20s 994ms/step - loss: 0.0120 - accuracy: 0.9963 - val_loss: 0.0363 - val_accuracy: 0.9852\n",
            "Epoch 15/30\n",
            "20/20 [==============================] - 20s 998ms/step - loss: 0.0046 - accuracy: 0.9986 - val_loss: 0.0517 - val_accuracy: 0.9815\n",
            "Epoch 16/30\n",
            "20/20 [==============================] - 20s 1s/step - loss: 0.0047 - accuracy: 0.9993 - val_loss: 0.0445 - val_accuracy: 0.9815\n",
            "Epoch 17/30\n",
            "20/20 [==============================] - 20s 992ms/step - loss: 0.0031 - accuracy: 0.9996 - val_loss: 0.0366 - val_accuracy: 0.9815\n",
            "Epoch 18/30\n",
            "20/20 [==============================] - 20s 998ms/step - loss: 0.0060 - accuracy: 0.9969 - val_loss: 0.0566 - val_accuracy: 0.9778\n",
            "Epoch 19/30\n",
            "20/20 [==============================] - 20s 1s/step - loss: 0.0030 - accuracy: 0.9990 - val_loss: 0.0393 - val_accuracy: 0.9815\n",
            "Epoch 20/30\n",
            "20/20 [==============================] - 20s 995ms/step - loss: 0.0035 - accuracy: 0.9994 - val_loss: 0.0495 - val_accuracy: 0.9741\n",
            "Epoch 21/30\n",
            "20/20 [==============================] - 20s 1000ms/step - loss: 0.0027 - accuracy: 0.9998 - val_loss: 0.0527 - val_accuracy: 0.9741\n",
            "Epoch 22/30\n",
            "20/20 [==============================] - 20s 989ms/step - loss: 0.0038 - accuracy: 0.9987 - val_loss: 0.0428 - val_accuracy: 0.9778\n",
            "Epoch 23/30\n",
            "20/20 [==============================] - 20s 994ms/step - loss: 0.0049 - accuracy: 0.9984 - val_loss: 0.0461 - val_accuracy: 0.9741\n",
            "Epoch 24/30\n",
            "20/20 [==============================] - 20s 1s/step - loss: 0.0037 - accuracy: 1.0000 - val_loss: 0.0412 - val_accuracy: 0.9778\n",
            "Epoch 25/30\n",
            "20/20 [==============================] - 20s 987ms/step - loss: 0.0038 - accuracy: 0.9995 - val_loss: 0.0421 - val_accuracy: 0.9778\n",
            "Epoch 26/30\n",
            "20/20 [==============================] - 20s 1s/step - loss: 0.0058 - accuracy: 0.9992 - val_loss: 0.0437 - val_accuracy: 0.9778\n",
            "Epoch 27/30\n",
            "20/20 [==============================] - 20s 989ms/step - loss: 0.0029 - accuracy: 0.9994 - val_loss: 0.0391 - val_accuracy: 0.9778\n",
            "Epoch 28/30\n",
            "20/20 [==============================] - 20s 989ms/step - loss: 0.0060 - accuracy: 0.9970 - val_loss: 0.0326 - val_accuracy: 0.9815\n",
            "Epoch 29/30\n",
            "20/20 [==============================] - 20s 985ms/step - loss: 0.0013 - accuracy: 1.0000 - val_loss: 0.0438 - val_accuracy: 0.9778\n",
            "Epoch 30/30\n",
            "20/20 [==============================] - 20s 980ms/step - loss: 0.0042 - accuracy: 0.9989 - val_loss: 0.0570 - val_accuracy: 0.9778\n"
          ],
          "name": "stdout"
        }
      ]
    },
    {
      "cell_type": "code",
      "metadata": {
        "colab": {
          "base_uri": "https://localhost:8080/"
        },
        "id": "fPujo7_pRVg3",
        "outputId": "def47c21-136d-44d6-a482-b9075198bfbf"
      },
      "source": [
        "# testing\n",
        "score = model.evaluate(test_set, verbose=0)\n",
        "print(f'Test loss: {score[0]:.4f}')\n",
        "print(f'Test accuracy: {score[1]:.4f}')"
      ],
      "execution_count": null,
      "outputs": [
        {
          "output_type": "stream",
          "text": [
            "Test loss: 0.0667\n",
            "Test accuracy: 0.9778\n"
          ],
          "name": "stdout"
        }
      ]
    },
    {
      "cell_type": "code",
      "metadata": {
        "colab": {
          "base_uri": "https://localhost:8080/",
          "height": 295
        },
        "id": "MatT1q6bRX-H",
        "outputId": "da4b6e0a-505f-432a-bb90-5db8d48ca3bf"
      },
      "source": [
        "# loss\n",
        "plt.plot(densenet_sgd.history['loss'], label='train loss')\n",
        "plt.plot(densenet_sgd.history['val_loss'], label='val loss')\n",
        "plt.title(label = 'Loss', fontsize = 12, color = \"black\")\n",
        "plt.xlabel('Epoch')\n",
        "plt.ylabel('Loss')\n",
        "plt.legend()\n",
        "plt.show()"
      ],
      "execution_count": null,
      "outputs": [
        {
          "output_type": "display_data",
          "data": {
            "image/png": "[encoded data removed]",
            "text/plain": [
              "<Figure size 432x288 with 1 Axes>"
            ]
          },
          "metadata": {
            "tags": [],
            "needs_background": "light"
          }
        }
      ]
    },
    {
      "cell_type": "code",
      "metadata": {
        "colab": {
          "base_uri": "https://localhost:8080/",
          "height": 295
        },
        "id": "OnEuQ-QnRc9X",
        "outputId": "8778691d-3de7-4078-fe17-ae4ae5316a67"
      },
      "source": [
        "# accuracy\n",
        "plt.plot(densenet_sgd.history['accuracy'], label='train accuracy')\n",
        "plt.plot(densenet_sgd.history['val_accuracy'], label='val accuracy')\n",
        "plt.title(label = 'Accuracy', fontsize = 12, color = \"black\")\n",
        "plt.xlabel('Epoch')\n",
        "plt.ylabel('Accuracy')\n",
        "plt.legend()\n",
        "plt.show()"
      ],
      "execution_count": null,
      "outputs": [
        {
          "output_type": "display_data",
          "data": {
            "image/png": "[encoded data removed]",
            "text/plain": [
              "<Figure size 432x288 with 1 Axes>"
            ]
          },
          "metadata": {
            "tags": [],
            "needs_background": "light"
          }
        }
      ]
    },
    {
      "cell_type": "markdown",
      "metadata": {
        "id": "3eLS3h48R0q2"
      },
      "source": [
        "AdaGrad"
      ]
    },
    {
      "cell_type": "code",
      "metadata": {
        "id": "DcXHx5ffR5Cr"
      },
      "source": [
        "from keras.applications.densenet import DenseNet121\n",
        "from keras.applications.densenet import preprocess_input\n",
        "\n",
        "# re-size all the images to this\n",
        "IMAGE_SIZE = [224, 224]\n",
        "\n",
        "train_path = '/content/gdrive/MyDrive/SVNCKH/Database/train'\n",
        "valid_path = '/content/gdrive/MyDrive/SVNCKH/Database/valid'\n",
        "test_path = '/content/gdrive/MyDrive/SVNCKH/Database/test'"
      ],
      "execution_count": null,
      "outputs": []
    },
    {
      "cell_type": "code",
      "metadata": {
        "id": "xB97i0q2ThDG"
      },
      "source": [
        "# add preprocessing layer to the front of DenseNet\n",
        "densenet_adagrad = DenseNet121(input_shape=IMAGE_SIZE + [3], weights='imagenet', include_top=False)"
      ],
      "execution_count": null,
      "outputs": []
    },
    {
      "cell_type": "code",
      "metadata": {
        "id": "ocTbgLlKTjAW"
      },
      "source": [
        "# don't train existing weights\n",
        "for layer in densenet_adagrad.layers:\n",
        "  layer.trainable = False"
      ],
      "execution_count": null,
      "outputs": []
    },
    {
      "cell_type": "code",
      "metadata": {
        "id": "ygGQWWeiTlAd"
      },
      "source": [
        "# useful for getting number of classes\n",
        "folders = glob('/content/gdrive/MyDrive/SVNCKH/Database/train/*')"
      ],
      "execution_count": null,
      "outputs": []
    },
    {
      "cell_type": "code",
      "metadata": {
        "id": "k7aMAWyHTnqd"
      },
      "source": [
        "# our layers - you can add more if you want\n",
        "x = Flatten()(densenet_adagrad.output)"
      ],
      "execution_count": null,
      "outputs": []
    },
    {
      "cell_type": "code",
      "metadata": {
        "id": "8chfrJNITpod"
      },
      "source": [
        "#x = Dense(3, activation='relu')(x)\n",
        "prediction = Dense(len(folders), activation='softmax')(x)"
      ],
      "execution_count": null,
      "outputs": []
    },
    {
      "cell_type": "code",
      "metadata": {
        "id": "BReJmu3PTrto"
      },
      "source": [
        "# create a model object\n",
        "model = Model(inputs=densenet_adagrad.input, outputs=prediction)"
      ],
      "execution_count": null,
      "outputs": []
    },
    {
      "cell_type": "code",
      "metadata": {
        "id": "sglSX97kTt5l"
      },
      "source": [
        "# tell the model what cost and optimization method to use\n",
        "model.compile(\n",
        "  loss='categorical_crossentropy',\n",
        "  optimizer='adagrad',\n",
        "  metrics=['accuracy']\n",
        ")"
      ],
      "execution_count": null,
      "outputs": []
    },
    {
      "cell_type": "code",
      "metadata": {
        "colab": {
          "base_uri": "https://localhost:8080/"
        },
        "id": "ERBdwa7rTw1P",
        "outputId": "ac833971-3269-4c7c-ca9b-1458ca988b6b"
      },
      "source": [
        "# Add our data-augmentation parameters to ImageDataGenerator\n",
        "train_datagen = ImageDataGenerator(rescale = 1./255,\n",
        "                                   shear_range = 0.2,\n",
        "                                   zoom_range = 0.2,\n",
        "                                   horizontal_flip = True)\n",
        "\n",
        "valid_datagen = ImageDataGenerator(rescale = 1./255)\n",
        "test_datagen = ImageDataGenerator(rescale = 1./255)\n",
        "\n",
        "# Flow training images in batches of 64 using train_datagen generator\n",
        "training_set = train_datagen.flow_from_directory(train_path,\n",
        "                                                 target_size = (224, 224),\n",
        "                                                 batch_size = 64,\n",
        "                                                 class_mode = 'categorical')\n",
        "\n",
        "valid_set = valid_datagen.flow_from_directory(valid_path,\n",
        "                                                 target_size = (224, 224),\n",
        "                                                 batch_size = 64,\n",
        "                                                 class_mode = 'categorical')\n",
        "\n",
        "test_set = test_datagen.flow_from_directory(test_path,\n",
        "                                            target_size = (224, 224),\n",
        "                                            batch_size = 64,\n",
        "                                            class_mode = 'categorical')"
      ],
      "execution_count": null,
      "outputs": [
        {
          "output_type": "stream",
          "text": [
            "Found 1260 images belonging to 6 classes.\n",
            "Found 270 images belonging to 6 classes.\n",
            "Found 270 images belonging to 6 classes.\n"
          ],
          "name": "stdout"
        }
      ]
    },
    {
      "cell_type": "code",
      "metadata": {
        "colab": {
          "base_uri": "https://localhost:8080/"
        },
        "id": "HdvdRdS0TznW",
        "outputId": "f2f8d262-13c2-474c-9954-9d0482757bf6"
      },
      "source": [
        "# fit the model\n",
        "densenet_adagrad = model.fit(\n",
        "  training_set,\n",
        "  validation_data=valid_set,\n",
        "  epochs=30,\n",
        "  steps_per_epoch=len(training_set),\n",
        "  validation_steps=len(valid_set)\n",
        ")"
      ],
      "execution_count": null,
      "outputs": [
        {
          "output_type": "stream",
          "text": [
            "Epoch 1/30\n",
            "20/20 [==============================] - 55s 2s/step - loss: 1.2639 - accuracy: 0.5567 - val_loss: 0.3237 - val_accuracy: 0.9444\n",
            "Epoch 2/30\n",
            "20/20 [==============================] - 20s 992ms/step - loss: 0.2136 - accuracy: 0.9797 - val_loss: 0.2284 - val_accuracy: 0.9667\n",
            "Epoch 3/30\n",
            "20/20 [==============================] - 20s 1s/step - loss: 0.1261 - accuracy: 0.9801 - val_loss: 0.1942 - val_accuracy: 0.9667\n",
            "Epoch 4/30\n",
            "20/20 [==============================] - 20s 1s/step - loss: 0.0946 - accuracy: 0.9890 - val_loss: 0.1555 - val_accuracy: 0.9852\n",
            "Epoch 5/30\n",
            "20/20 [==============================] - 20s 991ms/step - loss: 0.0717 - accuracy: 0.9923 - val_loss: 0.1466 - val_accuracy: 0.9815\n",
            "Epoch 6/30\n",
            "20/20 [==============================] - 20s 998ms/step - loss: 0.0716 - accuracy: 0.9908 - val_loss: 0.1317 - val_accuracy: 0.9815\n",
            "Epoch 7/30\n",
            "20/20 [==============================] - 20s 989ms/step - loss: 0.0541 - accuracy: 0.9976 - val_loss: 0.1248 - val_accuracy: 0.9815\n",
            "Epoch 8/30\n",
            "20/20 [==============================] - 20s 969ms/step - loss: 0.0614 - accuracy: 0.9828 - val_loss: 0.1062 - val_accuracy: 0.9889\n",
            "Epoch 9/30\n",
            "20/20 [==============================] - 20s 989ms/step - loss: 0.0418 - accuracy: 0.9986 - val_loss: 0.1095 - val_accuracy: 0.9815\n",
            "Epoch 10/30\n",
            "20/20 [==============================] - 20s 989ms/step - loss: 0.0494 - accuracy: 0.9942 - val_loss: 0.1116 - val_accuracy: 0.9741\n",
            "Epoch 11/30\n",
            "20/20 [==============================] - 20s 978ms/step - loss: 0.0372 - accuracy: 0.9961 - val_loss: 0.1020 - val_accuracy: 0.9815\n",
            "Epoch 12/30\n",
            "20/20 [==============================] - 20s 985ms/step - loss: 0.0388 - accuracy: 0.9991 - val_loss: 0.0973 - val_accuracy: 0.9815\n",
            "Epoch 13/30\n",
            "20/20 [==============================] - 20s 987ms/step - loss: 0.0336 - accuracy: 0.9968 - val_loss: 0.0898 - val_accuracy: 0.9815\n",
            "Epoch 14/30\n",
            "20/20 [==============================] - 20s 986ms/step - loss: 0.0313 - accuracy: 0.9999 - val_loss: 0.0922 - val_accuracy: 0.9889\n",
            "Epoch 15/30\n",
            "20/20 [==============================] - 20s 975ms/step - loss: 0.0346 - accuracy: 0.9957 - val_loss: 0.0877 - val_accuracy: 0.9778\n",
            "Epoch 16/30\n",
            "20/20 [==============================] - 20s 980ms/step - loss: 0.0329 - accuracy: 0.9965 - val_loss: 0.0904 - val_accuracy: 0.9778\n",
            "Epoch 17/30\n",
            "20/20 [==============================] - 20s 977ms/step - loss: 0.0325 - accuracy: 0.9973 - val_loss: 0.0854 - val_accuracy: 0.9889\n",
            "Epoch 18/30\n",
            "20/20 [==============================] - 20s 978ms/step - loss: 0.0273 - accuracy: 0.9962 - val_loss: 0.0851 - val_accuracy: 0.9778\n",
            "Epoch 19/30\n",
            "20/20 [==============================] - 20s 984ms/step - loss: 0.0250 - accuracy: 0.9995 - val_loss: 0.0798 - val_accuracy: 0.9852\n",
            "Epoch 20/30\n",
            "20/20 [==============================] - 20s 976ms/step - loss: 0.0243 - accuracy: 0.9962 - val_loss: 0.0851 - val_accuracy: 0.9852\n",
            "Epoch 21/30\n",
            "20/20 [==============================] - 20s 979ms/step - loss: 0.0253 - accuracy: 0.9979 - val_loss: 0.0803 - val_accuracy: 0.9852\n",
            "Epoch 22/30\n",
            "20/20 [==============================] - 20s 981ms/step - loss: 0.0225 - accuracy: 0.9980 - val_loss: 0.0737 - val_accuracy: 0.9889\n",
            "Epoch 23/30\n",
            "20/20 [==============================] - 20s 999ms/step - loss: 0.0214 - accuracy: 0.9985 - val_loss: 0.0708 - val_accuracy: 0.9889\n",
            "Epoch 24/30\n",
            "20/20 [==============================] - 20s 987ms/step - loss: 0.0237 - accuracy: 0.9991 - val_loss: 0.0740 - val_accuracy: 0.9852\n",
            "Epoch 25/30\n",
            "20/20 [==============================] - 20s 985ms/step - loss: 0.0240 - accuracy: 0.9990 - val_loss: 0.0727 - val_accuracy: 0.9852\n",
            "Epoch 26/30\n",
            "20/20 [==============================] - 20s 984ms/step - loss: 0.0205 - accuracy: 0.9980 - val_loss: 0.0718 - val_accuracy: 0.9852\n",
            "Epoch 27/30\n",
            "20/20 [==============================] - 20s 978ms/step - loss: 0.0179 - accuracy: 0.9998 - val_loss: 0.0730 - val_accuracy: 0.9852\n",
            "Epoch 28/30\n",
            "20/20 [==============================] - 19s 964ms/step - loss: 0.0212 - accuracy: 1.0000 - val_loss: 0.0702 - val_accuracy: 0.9852\n",
            "Epoch 29/30\n",
            "20/20 [==============================] - 19s 963ms/step - loss: 0.0165 - accuracy: 1.0000 - val_loss: 0.0672 - val_accuracy: 0.9852\n",
            "Epoch 30/30\n",
            "20/20 [==============================] - 19s 957ms/step - loss: 0.0190 - accuracy: 0.9986 - val_loss: 0.0660 - val_accuracy: 0.9889\n"
          ],
          "name": "stdout"
        }
      ]
    },
    {
      "cell_type": "code",
      "metadata": {
        "colab": {
          "base_uri": "https://localhost:8080/"
        },
        "id": "n04apxzkT2PJ",
        "outputId": "1c470cc0-60b1-4bb7-db53-1b8219c86a00"
      },
      "source": [
        "# testing\n",
        "score = model.evaluate(test_set, verbose=0)\n",
        "print(f'Test loss: {score[0]:.4f}')\n",
        "print(f'Test accuracy: {score[1]:.4f}')"
      ],
      "execution_count": null,
      "outputs": [
        {
          "output_type": "stream",
          "text": [
            "Test loss: 0.0580\n",
            "Test accuracy: 0.9852\n"
          ],
          "name": "stdout"
        }
      ]
    },
    {
      "cell_type": "code",
      "metadata": {
        "colab": {
          "base_uri": "https://localhost:8080/",
          "height": 295
        },
        "id": "BhVnesGqT6aW",
        "outputId": "849d5832-f26c-4460-edc3-0557dc39131c"
      },
      "source": [
        "# loss\n",
        "plt.plot(densenet_adagrad.history['loss'], label='train loss')\n",
        "plt.plot(densenet_adagrad.history['val_loss'], label='val loss')\n",
        "plt.title(label = 'Loss', fontsize = 12, color = \"black\")\n",
        "plt.xlabel('Epoch')\n",
        "plt.ylabel('Loss')\n",
        "plt.legend()\n",
        "plt.show()"
      ],
      "execution_count": null,
      "outputs": [
        {
          "output_type": "display_data",
          "data": {
            "image/png": "[encoded data removed]",
            "text/plain": [
              "<Figure size 432x288 with 1 Axes>"
            ]
          },
          "metadata": {
            "tags": [],
            "needs_background": "light"
          }
        }
      ]
    },
    {
      "cell_type": "code",
      "metadata": {
        "colab": {
          "base_uri": "https://localhost:8080/",
          "height": 295
        },
        "id": "S9-_Um6RT9ai",
        "outputId": "3bcf9b28-28fc-409f-95d7-048dbf2f0b4d"
      },
      "source": [
        "# accuracy\n",
        "plt.plot(densenet_adagrad.history['accuracy'], label='train accuracy')\n",
        "plt.plot(densenet_adagrad.history['val_accuracy'], label='val accuracy')\n",
        "plt.title(label = 'Accuracy', fontsize = 12, color = \"black\")\n",
        "plt.xlabel('Epoch')\n",
        "plt.ylabel('Accuracy')\n",
        "plt.legend()\n",
        "plt.show()"
      ],
      "execution_count": null,
      "outputs": [
        {
          "output_type": "display_data",
          "data": {
            "image/png": "[encoded data removed]",
            "text/plain": [
              "<Figure size 432x288 with 1 Axes>"
            ]
          },
          "metadata": {
            "tags": [],
            "needs_background": "light"
          }
        }
      ]
    },
    {
      "cell_type": "markdown",
      "metadata": {
        "id": "L_Xpsd5HUOhc"
      },
      "source": [
        "RMSprop"
      ]
    },
    {
      "cell_type": "code",
      "metadata": {
        "id": "yXBT1JLGULaI"
      },
      "source": [
        "from keras.applications.densenet import DenseNet121\n",
        "from keras.applications.densenet import preprocess_input\n",
        "\n",
        "# re-size all the images to this\n",
        "IMAGE_SIZE = [224, 224]\n",
        "\n",
        "train_path = '/content/gdrive/MyDrive/SVNCKH/Database/train'\n",
        "valid_path = '/content/gdrive/MyDrive/SVNCKH/Database/valid'\n",
        "test_path = '/content/gdrive/MyDrive/SVNCKH/Database/test'"
      ],
      "execution_count": null,
      "outputs": []
    },
    {
      "cell_type": "code",
      "metadata": {
        "id": "0DftT99lUXm4"
      },
      "source": [
        "# add preprocessing layer to the front of DenseNet\n",
        "densenet_RMSprop = DenseNet121(input_shape=IMAGE_SIZE + [3], weights='imagenet', include_top=False)"
      ],
      "execution_count": null,
      "outputs": []
    },
    {
      "cell_type": "code",
      "metadata": {
        "id": "QvMd76vVUZ12"
      },
      "source": [
        "# don't train existing weights\n",
        "for layer in densenet_RMSprop.layers:\n",
        "  layer.trainable = False"
      ],
      "execution_count": null,
      "outputs": []
    },
    {
      "cell_type": "code",
      "metadata": {
        "id": "6ZHv4n5jUbnY"
      },
      "source": [
        "# useful for getting number of classes\n",
        "folders = glob('/content/gdrive/MyDrive/SVNCKH/Database/train/*')"
      ],
      "execution_count": null,
      "outputs": []
    },
    {
      "cell_type": "code",
      "metadata": {
        "id": "1jNhOef7Udrk"
      },
      "source": [
        "# our layers - you can add more if you want\n",
        "x = Flatten()(densenet_RMSprop.output)"
      ],
      "execution_count": null,
      "outputs": []
    },
    {
      "cell_type": "code",
      "metadata": {
        "id": "duLKLgblUft8"
      },
      "source": [
        "#x = Dense(3, activation='relu')(x)\n",
        "prediction = Dense(len(folders), activation='softmax')(x)"
      ],
      "execution_count": null,
      "outputs": []
    },
    {
      "cell_type": "code",
      "metadata": {
        "id": "lin4LIVlUh3k"
      },
      "source": [
        "# create a model object\n",
        "model = Model(inputs=densenet_RMSprop.input, outputs=prediction)"
      ],
      "execution_count": null,
      "outputs": []
    },
    {
      "cell_type": "code",
      "metadata": {
        "id": "cVeezX6GUkZe"
      },
      "source": [
        "# tell the model what cost and optimization method to use\n",
        "model.compile(\n",
        "  loss='categorical_crossentropy',\n",
        "  optimizer='RMSprop',\n",
        "  metrics=['accuracy']\n",
        ")"
      ],
      "execution_count": null,
      "outputs": []
    },
    {
      "cell_type": "code",
      "metadata": {
        "colab": {
          "base_uri": "https://localhost:8080/"
        },
        "id": "lgp_yoSEUnbp",
        "outputId": "80dc3b46-aaf5-4e14-e857-e2b05536451d"
      },
      "source": [
        "# Add our data-augmentation parameters to ImageDataGenerator\n",
        "train_datagen = ImageDataGenerator(rescale = 1./255,\n",
        "                                   shear_range = 0.2,\n",
        "                                   zoom_range = 0.2,\n",
        "                                   horizontal_flip = True)\n",
        "\n",
        "valid_datagen = ImageDataGenerator(rescale = 1./255)\n",
        "test_datagen = ImageDataGenerator(rescale = 1./255)\n",
        "\n",
        "# Flow training images in batches of 64 using train_datagen generator\n",
        "training_set = train_datagen.flow_from_directory(train_path,\n",
        "                                                 target_size = (224, 224),\n",
        "                                                 batch_size = 64,\n",
        "                                                 class_mode = 'categorical')\n",
        "\n",
        "valid_set = valid_datagen.flow_from_directory(valid_path,\n",
        "                                                 target_size = (224, 224),\n",
        "                                                 batch_size = 64,\n",
        "                                                 class_mode = 'categorical')\n",
        "\n",
        "test_set = test_datagen.flow_from_directory(test_path,\n",
        "                                            target_size = (224, 224),\n",
        "                                            batch_size = 64,\n",
        "                                            class_mode = 'categorical')"
      ],
      "execution_count": null,
      "outputs": [
        {
          "output_type": "stream",
          "text": [
            "Found 1260 images belonging to 6 classes.\n",
            "Found 270 images belonging to 6 classes.\n",
            "Found 270 images belonging to 6 classes.\n"
          ],
          "name": "stdout"
        }
      ]
    },
    {
      "cell_type": "code",
      "metadata": {
        "colab": {
          "base_uri": "https://localhost:8080/"
        },
        "id": "aaryxI00Uq-p",
        "outputId": "b22a94a8-ab90-4782-c63f-3df02ed67b96"
      },
      "source": [
        "# fit the model\n",
        "densenet_RMSprop = model.fit(\n",
        "  training_set,\n",
        "  validation_data=valid_set,\n",
        "  epochs=30,\n",
        "  steps_per_epoch=len(training_set),\n",
        "  validation_steps=len(valid_set)\n",
        ")"
      ],
      "execution_count": null,
      "outputs": [
        {
          "output_type": "stream",
          "text": [
            "Epoch 1/30\n",
            "20/20 [==============================] - 56s 2s/step - loss: 3.3087 - accuracy: 0.5802 - val_loss: 0.2610 - val_accuracy: 0.8778\n",
            "Epoch 2/30\n",
            "20/20 [==============================] - 20s 1s/step - loss: 0.1297 - accuracy: 0.9553 - val_loss: 1.2526 - val_accuracy: 0.7000\n",
            "Epoch 3/30\n",
            "20/20 [==============================] - 21s 1s/step - loss: 0.5948 - accuracy: 0.9197 - val_loss: 0.7977 - val_accuracy: 0.8185\n",
            "Epoch 4/30\n",
            "20/20 [==============================] - 21s 1s/step - loss: 0.1207 - accuracy: 0.9638 - val_loss: 0.0129 - val_accuracy: 0.9963\n",
            "Epoch 5/30\n",
            "20/20 [==============================] - 20s 1s/step - loss: 0.1188 - accuracy: 0.9693 - val_loss: 0.0481 - val_accuracy: 0.9815\n",
            "Epoch 6/30\n",
            "20/20 [==============================] - 21s 1s/step - loss: 0.0891 - accuracy: 0.9762 - val_loss: 0.0171 - val_accuracy: 0.9926\n",
            "Epoch 7/30\n",
            "20/20 [==============================] - 20s 1s/step - loss: 0.1733 - accuracy: 0.9640 - val_loss: 0.2100 - val_accuracy: 0.9407\n",
            "Epoch 8/30\n",
            "20/20 [==============================] - 21s 1s/step - loss: 0.0118 - accuracy: 0.9944 - val_loss: 0.0505 - val_accuracy: 0.9778\n",
            "Epoch 9/30\n",
            "20/20 [==============================] - 21s 1s/step - loss: 0.0054 - accuracy: 0.9967 - val_loss: 0.0047 - val_accuracy: 0.9963\n",
            "Epoch 10/30\n",
            "20/20 [==============================] - 20s 1s/step - loss: 0.0010 - accuracy: 1.0000 - val_loss: 0.0245 - val_accuracy: 0.9889\n",
            "Epoch 11/30\n",
            "20/20 [==============================] - 20s 1s/step - loss: 0.0954 - accuracy: 0.9771 - val_loss: 0.0325 - val_accuracy: 0.9926\n",
            "Epoch 12/30\n",
            "20/20 [==============================] - 20s 1s/step - loss: 0.0170 - accuracy: 0.9959 - val_loss: 0.0365 - val_accuracy: 0.9889\n",
            "Epoch 13/30\n",
            "20/20 [==============================] - 20s 1s/step - loss: 1.9864e-04 - accuracy: 1.0000 - val_loss: 0.0275 - val_accuracy: 0.9963\n",
            "Epoch 14/30\n",
            "20/20 [==============================] - 20s 1s/step - loss: 0.0699 - accuracy: 0.9881 - val_loss: 0.0760 - val_accuracy: 0.9741\n",
            "Epoch 15/30\n",
            "20/20 [==============================] - 20s 1s/step - loss: 0.0430 - accuracy: 0.9937 - val_loss: 0.0412 - val_accuracy: 0.9852\n",
            "Epoch 16/30\n",
            "20/20 [==============================] - 20s 1s/step - loss: 0.0323 - accuracy: 0.9938 - val_loss: 0.0691 - val_accuracy: 0.9815\n",
            "Epoch 17/30\n",
            "20/20 [==============================] - 20s 1s/step - loss: 0.0089 - accuracy: 0.9972 - val_loss: 0.0795 - val_accuracy: 0.9815\n",
            "Epoch 18/30\n",
            "20/20 [==============================] - 20s 1s/step - loss: 0.0323 - accuracy: 0.9964 - val_loss: 0.0364 - val_accuracy: 0.9926\n",
            "Epoch 19/30\n",
            "20/20 [==============================] - 21s 1s/step - loss: 4.0806e-04 - accuracy: 1.0000 - val_loss: 0.0358 - val_accuracy: 0.9926\n",
            "Epoch 20/30\n",
            "20/20 [==============================] - 21s 1s/step - loss: 0.0294 - accuracy: 0.9968 - val_loss: 0.0507 - val_accuracy: 0.9926\n",
            "Epoch 21/30\n",
            "20/20 [==============================] - 21s 1s/step - loss: 0.1145 - accuracy: 0.9848 - val_loss: 0.0505 - val_accuracy: 0.9852\n",
            "Epoch 22/30\n",
            "20/20 [==============================] - 21s 1s/step - loss: 0.0046 - accuracy: 0.9976 - val_loss: 0.0836 - val_accuracy: 0.9815\n",
            "Epoch 23/30\n",
            "20/20 [==============================] - 21s 1s/step - loss: 0.0047 - accuracy: 0.9990 - val_loss: 0.0333 - val_accuracy: 0.9926\n",
            "Epoch 24/30\n",
            "20/20 [==============================] - 20s 999ms/step - loss: 1.3439e-04 - accuracy: 1.0000 - val_loss: 0.0191 - val_accuracy: 0.9963\n",
            "Epoch 25/30\n",
            "20/20 [==============================] - 20s 1s/step - loss: 0.0081 - accuracy: 0.9983 - val_loss: 0.0404 - val_accuracy: 0.9815\n",
            "Epoch 26/30\n",
            "20/20 [==============================] - 20s 1s/step - loss: 0.0835 - accuracy: 0.9875 - val_loss: 0.0176 - val_accuracy: 0.9963\n",
            "Epoch 27/30\n",
            "20/20 [==============================] - 20s 1s/step - loss: 2.0645e-04 - accuracy: 1.0000 - val_loss: 0.0142 - val_accuracy: 0.9926\n",
            "Epoch 28/30\n",
            "20/20 [==============================] - 21s 1s/step - loss: 9.1179e-06 - accuracy: 1.0000 - val_loss: 0.0114 - val_accuracy: 0.9963\n",
            "Epoch 29/30\n",
            "20/20 [==============================] - 21s 1s/step - loss: 0.0250 - accuracy: 0.9941 - val_loss: 0.0262 - val_accuracy: 0.9889\n",
            "Epoch 30/30\n",
            "20/20 [==============================] - 21s 1s/step - loss: 2.0816e-05 - accuracy: 1.0000 - val_loss: 0.0237 - val_accuracy: 0.9926\n"
          ],
          "name": "stdout"
        }
      ]
    },
    {
      "cell_type": "code",
      "metadata": {
        "colab": {
          "base_uri": "https://localhost:8080/"
        },
        "id": "EBiEIucyUt9B",
        "outputId": "989bf2ed-d81d-4118-b416-5025684ab5ab"
      },
      "source": [
        "# testing\n",
        "score = model.evaluate(test_set, verbose=0)\n",
        "print(f'Test loss: {score[0]:.4f}')\n",
        "print(f'Test accuracy: {score[1]:.4f}')"
      ],
      "execution_count": null,
      "outputs": [
        {
          "output_type": "stream",
          "text": [
            "Test loss: 0.0301\n",
            "Test accuracy: 0.9926\n"
          ],
          "name": "stdout"
        }
      ]
    },
    {
      "cell_type": "code",
      "metadata": {
        "colab": {
          "base_uri": "https://localhost:8080/",
          "height": 295
        },
        "id": "0x7vZHcoUxv_",
        "outputId": "cee596f6-5d1b-4d4e-c939-873df14e9a90"
      },
      "source": [
        "# loss\n",
        "plt.plot(densenet_RMSprop.history['loss'], label='train loss')\n",
        "plt.plot(densenet_RMSprop.history['val_loss'], label='val loss')\n",
        "plt.title(label = 'Loss', fontsize = 12, color = \"black\")\n",
        "plt.xlabel('Epoch')\n",
        "plt.ylabel('Loss')\n",
        "plt.legend()\n",
        "plt.show()"
      ],
      "execution_count": null,
      "outputs": [
        {
          "output_type": "display_data",
          "data": {
            "image/png": "[encoded data removed]",
            "text/plain": [
              "<Figure size 432x288 with 1 Axes>"
            ]
          },
          "metadata": {
            "tags": [],
            "needs_background": "light"
          }
        }
      ]
    },
    {
      "cell_type": "code",
      "metadata": {
        "colab": {
          "base_uri": "https://localhost:8080/",
          "height": 295
        },
        "id": "s4pJ78HSU0_f",
        "outputId": "601511df-773a-471c-94fa-c94dcbe621c4"
      },
      "source": [
        "# accuracy\n",
        "plt.plot(densenet_RMSprop.history['accuracy'], label='train accuracy')\n",
        "plt.plot(densenet_RMSprop.history['val_accuracy'], label='val accuracy')\n",
        "plt.title(label = 'Accuracy', fontsize = 12, color = \"black\")\n",
        "plt.xlabel('Epoch')\n",
        "plt.ylabel('Accuracy')\n",
        "plt.legend()\n",
        "plt.show()"
      ],
      "execution_count": null,
      "outputs": [
        {
          "output_type": "display_data",
          "data": {
            "image/png": "[encoded data removed]",
            "text/plain": [
              "<Figure size 432x288 with 1 Axes>"
            ]
          },
          "metadata": {
            "tags": [],
            "needs_background": "light"
          }
        }
      ]
    },
    {
      "cell_type": "markdown",
      "metadata": {
        "id": "yHElfH6HVXhc"
      },
      "source": [
        "Nadam"
      ]
    },
    {
      "cell_type": "code",
      "metadata": {
        "id": "egBEp3OAVZqC"
      },
      "source": [
        "from keras.applications.densenet import DenseNet121\n",
        "from keras.applications.densenet import preprocess_input\n",
        "\n",
        "# re-size all the images to this\n",
        "IMAGE_SIZE = [224, 224]\n",
        "\n",
        "train_path = '/content/gdrive/MyDrive/SVNCKH/Database/train'\n",
        "valid_path = '/content/gdrive/MyDrive/SVNCKH/Database/valid'\n",
        "test_path = '/content/gdrive/MyDrive/SVNCKH/Database/test'"
      ],
      "execution_count": null,
      "outputs": []
    },
    {
      "cell_type": "code",
      "metadata": {
        "id": "xGJQcKLpVbkk"
      },
      "source": [
        "# add preprocessing layer to the front of DenseNet\n",
        "densenet_nadam = DenseNet121(input_shape=IMAGE_SIZE + [3], weights='imagenet', include_top=False)"
      ],
      "execution_count": null,
      "outputs": []
    },
    {
      "cell_type": "code",
      "metadata": {
        "id": "KaWW9zi0Vdvu"
      },
      "source": [
        "# don't train existing weights\n",
        "for layer in densenet_nadam.layers:\n",
        "  layer.trainable = False"
      ],
      "execution_count": null,
      "outputs": []
    },
    {
      "cell_type": "code",
      "metadata": {
        "id": "kEvCbXWLVfsx"
      },
      "source": [
        "# useful for getting number of classes\n",
        "folders = glob('/content/gdrive/MyDrive/SVNCKH/Database/train/*')"
      ],
      "execution_count": null,
      "outputs": []
    },
    {
      "cell_type": "code",
      "metadata": {
        "id": "GWYfWAEiVhfk"
      },
      "source": [
        "# our layers - you can add more if you want\n",
        "x = Flatten()(densenet_nadam.output)"
      ],
      "execution_count": null,
      "outputs": []
    },
    {
      "cell_type": "code",
      "metadata": {
        "id": "QDOkJAqMVj1T"
      },
      "source": [
        "#x = Dense(3, activation='relu')(x)\n",
        "prediction = Dense(len(folders), activation='softmax')(x)"
      ],
      "execution_count": null,
      "outputs": []
    },
    {
      "cell_type": "code",
      "metadata": {
        "id": "1KkFtlg9VmFZ"
      },
      "source": [
        "# create a model object\n",
        "model = Model(inputs=densenet_nadam.input, outputs=prediction)"
      ],
      "execution_count": null,
      "outputs": []
    },
    {
      "cell_type": "code",
      "metadata": {
        "id": "aEMP9NrhVoqW"
      },
      "source": [
        "# tell the model what cost and optimization method to use\n",
        "model.compile(\n",
        "  loss='categorical_crossentropy',\n",
        "  optimizer='nadam',\n",
        "  metrics=['accuracy']\n",
        ")"
      ],
      "execution_count": null,
      "outputs": []
    },
    {
      "cell_type": "code",
      "metadata": {
        "colab": {
          "base_uri": "https://localhost:8080/"
        },
        "id": "WSKM0S4vVrLT",
        "outputId": "8d0853c3-68b0-43fd-e72b-3d241a560c15"
      },
      "source": [
        "# Add our data-augmentation parameters to ImageDataGenerator\n",
        "train_datagen = ImageDataGenerator(rescale = 1./255,\n",
        "                                   shear_range = 0.2,\n",
        "                                   zoom_range = 0.2,\n",
        "                                   horizontal_flip = True)\n",
        "\n",
        "valid_datagen = ImageDataGenerator(rescale = 1./255)\n",
        "test_datagen = ImageDataGenerator(rescale = 1./255)\n",
        "\n",
        "# Flow training images in batches of 64 using train_datagen generator\n",
        "training_set = train_datagen.flow_from_directory(train_path,\n",
        "                                                 target_size = (224, 224),\n",
        "                                                 batch_size = 64,\n",
        "                                                 class_mode = 'categorical')\n",
        "\n",
        "valid_set = valid_datagen.flow_from_directory(valid_path,\n",
        "                                                 target_size = (224, 224),\n",
        "                                                 batch_size = 64,\n",
        "                                                 class_mode = 'categorical')\n",
        "\n",
        "test_set = test_datagen.flow_from_directory(test_path,\n",
        "                                            target_size = (224, 224),\n",
        "                                            batch_size = 64,\n",
        "                                            class_mode = 'categorical')"
      ],
      "execution_count": null,
      "outputs": [
        {
          "output_type": "stream",
          "text": [
            "Found 1260 images belonging to 6 classes.\n",
            "Found 270 images belonging to 6 classes.\n",
            "Found 270 images belonging to 6 classes.\n"
          ],
          "name": "stdout"
        }
      ]
    },
    {
      "cell_type": "code",
      "metadata": {
        "colab": {
          "base_uri": "https://localhost:8080/"
        },
        "id": "j2psg0tqVuEF",
        "outputId": "be1a283a-fcdb-476f-fa54-0b9f59dccb88"
      },
      "source": [
        "# fit the model\n",
        "densenet_nadam = model.fit(\n",
        "  training_set,\n",
        "  validation_data=valid_set,\n",
        "  epochs=30,\n",
        "  steps_per_epoch=len(training_set),\n",
        "  validation_steps=len(valid_set)\n",
        ")"
      ],
      "execution_count": null,
      "outputs": [
        {
          "output_type": "stream",
          "text": [
            "Epoch 1/30\n",
            "20/20 [==============================] - 57s 2s/step - loss: 1.3279 - accuracy: 0.6343 - val_loss: 0.0826 - val_accuracy: 0.9778\n",
            "Epoch 2/30\n",
            "20/20 [==============================] - 20s 1s/step - loss: 0.0396 - accuracy: 0.9893 - val_loss: 0.0832 - val_accuracy: 0.9704\n",
            "Epoch 3/30\n",
            "20/20 [==============================] - 20s 979ms/step - loss: 0.0136 - accuracy: 0.9995 - val_loss: 0.0560 - val_accuracy: 0.9778\n",
            "Epoch 4/30\n",
            "20/20 [==============================] - 20s 991ms/step - loss: 0.0074 - accuracy: 0.9994 - val_loss: 0.0397 - val_accuracy: 0.9852\n",
            "Epoch 5/30\n",
            "20/20 [==============================] - 20s 998ms/step - loss: 0.0079 - accuracy: 0.9988 - val_loss: 0.0554 - val_accuracy: 0.9778\n",
            "Epoch 6/30\n",
            "20/20 [==============================] - 20s 1s/step - loss: 0.0085 - accuracy: 0.9991 - val_loss: 0.0568 - val_accuracy: 0.9741\n",
            "Epoch 7/30\n",
            "20/20 [==============================] - 20s 999ms/step - loss: 0.0125 - accuracy: 0.9924 - val_loss: 0.0386 - val_accuracy: 0.9889\n",
            "Epoch 8/30\n",
            "20/20 [==============================] - 20s 1s/step - loss: 0.0030 - accuracy: 1.0000 - val_loss: 0.0266 - val_accuracy: 0.9889\n",
            "Epoch 9/30\n",
            "20/20 [==============================] - 20s 1s/step - loss: 0.0042 - accuracy: 0.9991 - val_loss: 0.0400 - val_accuracy: 0.9852\n",
            "Epoch 10/30\n",
            "20/20 [==============================] - 20s 1s/step - loss: 0.0039 - accuracy: 1.0000 - val_loss: 0.0379 - val_accuracy: 0.9889\n",
            "Epoch 11/30\n",
            "20/20 [==============================] - 20s 1s/step - loss: 0.0016 - accuracy: 1.0000 - val_loss: 0.0254 - val_accuracy: 0.9963\n",
            "Epoch 12/30\n",
            "20/20 [==============================] - 20s 1s/step - loss: 0.0025 - accuracy: 0.9997 - val_loss: 0.1208 - val_accuracy: 0.9481\n",
            "Epoch 13/30\n",
            "20/20 [==============================] - 20s 1s/step - loss: 0.0051 - accuracy: 0.9973 - val_loss: 0.0335 - val_accuracy: 0.9926\n",
            "Epoch 14/30\n",
            "20/20 [==============================] - 20s 1s/step - loss: 0.0026 - accuracy: 0.9996 - val_loss: 0.0331 - val_accuracy: 0.9926\n",
            "Epoch 15/30\n",
            "20/20 [==============================] - 20s 1s/step - loss: 0.0024 - accuracy: 0.9992 - val_loss: 0.0324 - val_accuracy: 0.9889\n",
            "Epoch 16/30\n",
            "20/20 [==============================] - 20s 1s/step - loss: 0.0013 - accuracy: 1.0000 - val_loss: 0.0396 - val_accuracy: 0.9926\n",
            "Epoch 17/30\n",
            "20/20 [==============================] - 20s 1s/step - loss: 0.0017 - accuracy: 1.0000 - val_loss: 0.0266 - val_accuracy: 0.9926\n",
            "Epoch 18/30\n",
            "20/20 [==============================] - 20s 1s/step - loss: 0.0011 - accuracy: 1.0000 - val_loss: 0.0240 - val_accuracy: 0.9926\n",
            "Epoch 19/30\n",
            "20/20 [==============================] - 20s 1s/step - loss: 0.0012 - accuracy: 1.0000 - val_loss: 0.0235 - val_accuracy: 0.9889\n",
            "Epoch 20/30\n",
            "20/20 [==============================] - 20s 1s/step - loss: 0.0023 - accuracy: 1.0000 - val_loss: 0.0281 - val_accuracy: 0.9889\n",
            "Epoch 21/30\n",
            "20/20 [==============================] - 20s 1s/step - loss: 9.6200e-04 - accuracy: 1.0000 - val_loss: 0.0225 - val_accuracy: 0.9889\n",
            "Epoch 22/30\n",
            "20/20 [==============================] - 20s 1000ms/step - loss: 7.2855e-04 - accuracy: 1.0000 - val_loss: 0.0342 - val_accuracy: 0.9889\n",
            "Epoch 23/30\n",
            "20/20 [==============================] - 20s 1s/step - loss: 0.0011 - accuracy: 1.0000 - val_loss: 0.0352 - val_accuracy: 0.9889\n",
            "Epoch 24/30\n",
            "20/20 [==============================] - 20s 992ms/step - loss: 8.3770e-04 - accuracy: 1.0000 - val_loss: 0.0405 - val_accuracy: 0.9889\n",
            "Epoch 25/30\n",
            "20/20 [==============================] - 20s 999ms/step - loss: 5.3835e-04 - accuracy: 1.0000 - val_loss: 0.0220 - val_accuracy: 0.9889\n",
            "Epoch 26/30\n",
            "20/20 [==============================] - 20s 993ms/step - loss: 6.0607e-04 - accuracy: 1.0000 - val_loss: 0.0190 - val_accuracy: 0.9889\n",
            "Epoch 27/30\n",
            "20/20 [==============================] - 20s 994ms/step - loss: 6.0829e-04 - accuracy: 1.0000 - val_loss: 0.0214 - val_accuracy: 0.9889\n",
            "Epoch 28/30\n",
            "20/20 [==============================] - 20s 995ms/step - loss: 5.7290e-04 - accuracy: 1.0000 - val_loss: 0.0181 - val_accuracy: 0.9889\n",
            "Epoch 29/30\n",
            "20/20 [==============================] - 20s 989ms/step - loss: 7.7745e-04 - accuracy: 1.0000 - val_loss: 0.0227 - val_accuracy: 0.9889\n",
            "Epoch 30/30\n",
            "20/20 [==============================] - 20s 994ms/step - loss: 4.8454e-04 - accuracy: 1.0000 - val_loss: 0.0182 - val_accuracy: 0.9963\n"
          ],
          "name": "stdout"
        }
      ]
    },
    {
      "cell_type": "code",
      "metadata": {
        "colab": {
          "base_uri": "https://localhost:8080/"
        },
        "id": "9-HCE7ZglxH9",
        "outputId": "808d8e80-7df4-4070-c29e-0b7e3fe21aee"
      },
      "source": [
        "# testing\n",
        "score = model.evaluate(test_set, verbose=0)\n",
        "print(f'Test loss: {score[0]:.4f}')\n",
        "print(f'Test accuracy: {score[1]:.4f}')"
      ],
      "execution_count": null,
      "outputs": [
        {
          "output_type": "stream",
          "text": [
            "Test loss: 0.0222\n",
            "Test accuracy: 0.9889\n"
          ],
          "name": "stdout"
        }
      ]
    },
    {
      "cell_type": "code",
      "metadata": {
        "colab": {
          "base_uri": "https://localhost:8080/",
          "height": 295
        },
        "id": "uF6HjUV9Vzpa",
        "outputId": "106b6ac4-d6ee-42dd-900c-0d74bab03892"
      },
      "source": [
        "# loss\n",
        "plt.plot(densenet_nadam.history['loss'], label='train loss')\n",
        "plt.plot(densenet_nadam.history['val_loss'], label='val loss')\n",
        "plt.title(label = 'Loss', fontsize = 12, color = \"black\")\n",
        "plt.xlabel('Epoch')\n",
        "plt.ylabel('Loss')\n",
        "plt.legend()\n",
        "plt.show()"
      ],
      "execution_count": null,
      "outputs": [
        {
          "output_type": "display_data",
          "data": {
            "image/png": "[encoded data removed]",
            "text/plain": [
              "<Figure size 432x288 with 1 Axes>"
            ]
          },
          "metadata": {
            "tags": [],
            "needs_background": "light"
          }
        }
      ]
    },
    {
      "cell_type": "code",
      "metadata": {
        "colab": {
          "base_uri": "https://localhost:8080/",
          "height": 295
        },
        "id": "raLa0z2KV2En",
        "outputId": "1a85b4ca-47e9-47d2-e539-521e52de717f"
      },
      "source": [
        "# accuracy\n",
        "plt.plot(densenet_nadam.history['accuracy'], label='train accuracy')\n",
        "plt.plot(densenet_nadam.history['val_accuracy'], label='val accuracy')\n",
        "plt.title(label = 'Accuracy', fontsize = 12, color = \"black\")\n",
        "plt.xlabel('Epoch')\n",
        "plt.ylabel('Accuracy')\n",
        "plt.legend()\n",
        "plt.show()"
      ],
      "execution_count": null,
      "outputs": [
        {
          "output_type": "display_data",
          "data": {
            "image/png": "[encoded data removed]",
            "text/plain": [
              "<Figure size 432x288 with 1 Axes>"
            ]
          },
          "metadata": {
            "tags": [],
            "needs_background": "light"
          }
        }
      ]
    },
    {
      "cell_type": "markdown",
      "metadata": {
        "id": "RVtMrkDaQ5Ly"
      },
      "source": [
        "Adam"
      ]
    },
    {
      "cell_type": "code",
      "metadata": {
        "id": "YK4KU-lO1j32"
      },
      "source": [
        "from keras.applications.densenet import DenseNet121\n",
        "from keras.applications.densenet import preprocess_input\n",
        "\n",
        "# re-size all the images to this\n",
        "IMAGE_SIZE = [224, 224]\n",
        "\n",
        "train_path = '/content/gdrive/MyDrive/SVNCKH/Database/train'\n",
        "valid_path = '/content/gdrive/MyDrive/SVNCKH/Database/valid'\n",
        "test_path = '/content/gdrive/MyDrive/SVNCKH/Database/test'"
      ],
      "execution_count": null,
      "outputs": []
    },
    {
      "cell_type": "code",
      "metadata": {
        "id": "Zxxeeksz1nUo"
      },
      "source": [
        "# add preprocessing layer to the front of DenseNet\n",
        "densenet_adam = DenseNet121(input_shape=IMAGE_SIZE + [3], weights='imagenet', include_top=False)"
      ],
      "execution_count": null,
      "outputs": []
    },
    {
      "cell_type": "code",
      "metadata": {
        "id": "gJOTIouK1pbM"
      },
      "source": [
        "# don't train existing weights\n",
        "for layer in densenet_adam.layers:\n",
        "  layer.trainable = False"
      ],
      "execution_count": null,
      "outputs": []
    },
    {
      "cell_type": "code",
      "metadata": {
        "id": "BEtL2jl31rHV"
      },
      "source": [
        "# useful for getting number of classes\n",
        "folders = glob('/content/gdrive/MyDrive/SVNCKH/Database/train/*')"
      ],
      "execution_count": null,
      "outputs": []
    },
    {
      "cell_type": "code",
      "metadata": {
        "id": "ICqnjY4V1taX"
      },
      "source": [
        "# our layers - you can add more if you want\n",
        "x = Flatten()(densenet_adam.output)"
      ],
      "execution_count": null,
      "outputs": []
    },
    {
      "cell_type": "code",
      "metadata": {
        "id": "UDapmQ7U1vbj"
      },
      "source": [
        "#x = Dense(3, activation='relu')(x)\n",
        "prediction = Dense(len(folders), activation='softmax')(x)"
      ],
      "execution_count": null,
      "outputs": []
    },
    {
      "cell_type": "code",
      "metadata": {
        "id": "Gj3iXOpB1xOF"
      },
      "source": [
        "# create a model object\n",
        "model = Model(inputs=densenet_adam.input, outputs=prediction)"
      ],
      "execution_count": null,
      "outputs": []
    },
    {
      "cell_type": "code",
      "metadata": {
        "id": "61OxtlUx1zHc"
      },
      "source": [
        "# view the structure of the model\n",
        "#model.summary()"
      ],
      "execution_count": null,
      "outputs": []
    },
    {
      "cell_type": "code",
      "metadata": {
        "id": "phx1GV_211Rv"
      },
      "source": [
        "# tell the model what cost and optimization method to use\n",
        "model.compile(\n",
        "  loss='categorical_crossentropy',\n",
        "  optimizer='adam',\n",
        "  metrics=['accuracy']\n",
        ")"
      ],
      "execution_count": null,
      "outputs": []
    },
    {
      "cell_type": "code",
      "metadata": {
        "colab": {
          "base_uri": "https://localhost:8080/"
        },
        "id": "oQSbJkLj13Ir",
        "outputId": "f66c2eb0-e581-4de1-fbd6-3c93ba275566"
      },
      "source": [
        "# Add our data-augmentation parameters to ImageDataGenerator\n",
        "train_datagen = ImageDataGenerator(rescale = 1./255,\n",
        "                                   shear_range = 0.2,\n",
        "                                   zoom_range = 0.2,\n",
        "                                   horizontal_flip = True)\n",
        "\n",
        "valid_datagen = ImageDataGenerator(rescale = 1./255)\n",
        "test_datagen = ImageDataGenerator(rescale = 1./255)\n",
        "\n",
        "# Flow training images in batches of 64 using train_datagen generator\n",
        "training_set = train_datagen.flow_from_directory(train_path,\n",
        "                                                 target_size = (224, 224),\n",
        "                                                 batch_size = 64,\n",
        "                                                 class_mode = 'categorical')\n",
        "\n",
        "valid_set = valid_datagen.flow_from_directory(valid_path,\n",
        "                                                 target_size = (224, 224),\n",
        "                                                 batch_size = 64,\n",
        "                                                 class_mode = 'categorical')\n",
        "\n",
        "test_set = test_datagen.flow_from_directory(test_path,\n",
        "                                            target_size = (224, 224),\n",
        "                                            batch_size = 64,\n",
        "                                            class_mode = 'categorical')"
      ],
      "execution_count": null,
      "outputs": [
        {
          "output_type": "stream",
          "text": [
            "Found 1260 images belonging to 6 classes.\n",
            "Found 270 images belonging to 6 classes.\n",
            "Found 270 images belonging to 6 classes.\n"
          ],
          "name": "stdout"
        }
      ]
    },
    {
      "cell_type": "code",
      "metadata": {
        "colab": {
          "base_uri": "https://localhost:8080/"
        },
        "id": "D2L-jdZ615fX",
        "outputId": "9d9af077-0170-475b-bdcc-d3b744c662f7"
      },
      "source": [
        "# fit the model\n",
        "densenet_adam = model.fit(\n",
        "  training_set,\n",
        "  validation_data=valid_set,\n",
        "  epochs=30,\n",
        "  steps_per_epoch=len(training_set),\n",
        "  validation_steps=len(valid_set)\n",
        ")"
      ],
      "execution_count": null,
      "outputs": [
        {
          "output_type": "stream",
          "text": [
            "Epoch 1/30\n",
            "20/20 [==============================] - 54s 1s/step - loss: 1.3122 - accuracy: 0.6490 - val_loss: 0.0988 - val_accuracy: 0.9556\n",
            "Epoch 2/30\n",
            "20/20 [==============================] - 19s 962ms/step - loss: 0.1073 - accuracy: 0.9719 - val_loss: 0.0565 - val_accuracy: 0.9815\n",
            "Epoch 3/30\n",
            "20/20 [==============================] - 19s 959ms/step - loss: 0.0123 - accuracy: 0.9956 - val_loss: 0.0329 - val_accuracy: 0.9852\n",
            "Epoch 4/30\n",
            "20/20 [==============================] - 20s 969ms/step - loss: 0.0059 - accuracy: 0.9973 - val_loss: 0.0315 - val_accuracy: 0.9889\n",
            "Epoch 5/30\n",
            "20/20 [==============================] - 20s 973ms/step - loss: 0.0056 - accuracy: 0.9971 - val_loss: 0.0160 - val_accuracy: 0.9926\n",
            "Epoch 6/30\n",
            "20/20 [==============================] - 19s 963ms/step - loss: 0.0104 - accuracy: 0.9949 - val_loss: 0.0139 - val_accuracy: 1.0000\n",
            "Epoch 7/30\n",
            "20/20 [==============================] - 19s 962ms/step - loss: 0.0037 - accuracy: 0.9988 - val_loss: 0.0487 - val_accuracy: 0.9815\n",
            "Epoch 8/30\n",
            "20/20 [==============================] - 19s 962ms/step - loss: 0.0040 - accuracy: 0.9996 - val_loss: 0.0192 - val_accuracy: 0.9926\n",
            "Epoch 9/30\n",
            "20/20 [==============================] - 20s 986ms/step - loss: 0.0023 - accuracy: 0.9993 - val_loss: 0.0378 - val_accuracy: 0.9852\n",
            "Epoch 10/30\n",
            "20/20 [==============================] - 20s 976ms/step - loss: 0.0022 - accuracy: 0.9991 - val_loss: 0.0176 - val_accuracy: 0.9889\n",
            "Epoch 11/30\n",
            "20/20 [==============================] - 20s 988ms/step - loss: 0.0011 - accuracy: 1.0000 - val_loss: 0.0187 - val_accuracy: 0.9926\n",
            "Epoch 12/30\n",
            "20/20 [==============================] - 20s 990ms/step - loss: 0.0020 - accuracy: 1.0000 - val_loss: 0.0240 - val_accuracy: 0.9889\n",
            "Epoch 13/30\n",
            "20/20 [==============================] - 20s 995ms/step - loss: 9.8582e-04 - accuracy: 1.0000 - val_loss: 0.0232 - val_accuracy: 0.9889\n",
            "Epoch 14/30\n",
            "20/20 [==============================] - 20s 971ms/step - loss: 7.4200e-04 - accuracy: 1.0000 - val_loss: 0.0272 - val_accuracy: 0.9889\n",
            "Epoch 15/30\n",
            "20/20 [==============================] - 20s 971ms/step - loss: 7.7751e-04 - accuracy: 1.0000 - val_loss: 0.0260 - val_accuracy: 0.9889\n",
            "Epoch 16/30\n",
            "20/20 [==============================] - 19s 965ms/step - loss: 0.0014 - accuracy: 0.9995 - val_loss: 0.0270 - val_accuracy: 0.9852\n",
            "Epoch 17/30\n",
            "20/20 [==============================] - 20s 977ms/step - loss: 0.0046 - accuracy: 0.9990 - val_loss: 0.0310 - val_accuracy: 0.9889\n",
            "Epoch 18/30\n",
            "20/20 [==============================] - 20s 995ms/step - loss: 9.3197e-04 - accuracy: 0.9997 - val_loss: 0.0158 - val_accuracy: 0.9926\n",
            "Epoch 19/30\n",
            "20/20 [==============================] - 20s 978ms/step - loss: 0.0035 - accuracy: 0.9993 - val_loss: 0.0237 - val_accuracy: 0.9926\n",
            "Epoch 20/30\n",
            "20/20 [==============================] - 20s 969ms/step - loss: 0.0034 - accuracy: 0.9989 - val_loss: 0.0166 - val_accuracy: 0.9926\n",
            "Epoch 21/30\n",
            "20/20 [==============================] - 20s 976ms/step - loss: 0.0114 - accuracy: 0.9956 - val_loss: 0.0236 - val_accuracy: 0.9926\n",
            "Epoch 22/30\n",
            "20/20 [==============================] - 20s 977ms/step - loss: 0.0014 - accuracy: 0.9993 - val_loss: 0.0234 - val_accuracy: 0.9889\n",
            "Epoch 23/30\n",
            "20/20 [==============================] - 20s 986ms/step - loss: 0.0079 - accuracy: 0.9956 - val_loss: 0.0112 - val_accuracy: 0.9963\n",
            "Epoch 24/30\n",
            "20/20 [==============================] - 20s 1s/step - loss: 7.3892e-04 - accuracy: 1.0000 - val_loss: 0.0294 - val_accuracy: 0.9852\n",
            "Epoch 25/30\n",
            "20/20 [==============================] - 20s 980ms/step - loss: 0.0015 - accuracy: 0.9998 - val_loss: 0.0346 - val_accuracy: 0.9852\n",
            "Epoch 26/30\n",
            "20/20 [==============================] - 20s 985ms/step - loss: 0.0011 - accuracy: 1.0000 - val_loss: 0.0139 - val_accuracy: 0.9926\n",
            "Epoch 27/30\n",
            "20/20 [==============================] - 20s 990ms/step - loss: 2.7086e-04 - accuracy: 0.9999 - val_loss: 0.0066 - val_accuracy: 1.0000\n",
            "Epoch 28/30\n",
            "20/20 [==============================] - 20s 995ms/step - loss: 0.0092 - accuracy: 0.9969 - val_loss: 0.0185 - val_accuracy: 0.9926\n",
            "Epoch 29/30\n",
            "20/20 [==============================] - 20s 997ms/step - loss: 0.0119 - accuracy: 0.9942 - val_loss: 0.0255 - val_accuracy: 0.9852\n",
            "Epoch 30/30\n",
            "20/20 [==============================] - 20s 985ms/step - loss: 0.0068 - accuracy: 0.9992 - val_loss: 0.0221 - val_accuracy: 0.9889\n"
          ],
          "name": "stdout"
        }
      ]
    },
    {
      "cell_type": "code",
      "metadata": {
        "colab": {
          "base_uri": "https://localhost:8080/"
        },
        "id": "h0CeLQ2j178x",
        "outputId": "ed2acfe2-142e-4b00-beaa-64138fc71169"
      },
      "source": [
        "# testing\n",
        "score = model.evaluate(test_set, verbose=0)\n",
        "print(f'Test loss: {score[0]:.4f}')\n",
        "print(f'Test accuracy: {score[1]:.4f}')"
      ],
      "execution_count": null,
      "outputs": [
        {
          "output_type": "stream",
          "text": [
            "Test loss: 0.0379\n",
            "Test accuracy: 0.9889\n"
          ],
          "name": "stdout"
        }
      ]
    },
    {
      "cell_type": "code",
      "metadata": {
        "colab": {
          "base_uri": "https://localhost:8080/",
          "height": 295
        },
        "id": "PUItwi1F1_L9",
        "outputId": "b563e9d1-5328-4e68-c7a4-4a1f02926748"
      },
      "source": [
        "# loss\n",
        "plt.plot(densenet_adam.history['loss'], label='train loss')\n",
        "plt.plot(densenet_adam.history['val_loss'], label='val loss')\n",
        "plt.title(label = 'Loss', fontsize = 12, color = \"black\")\n",
        "plt.xlabel('Epoch')\n",
        "plt.ylabel('Loss')\n",
        "plt.legend()\n",
        "plt.show()"
      ],
      "execution_count": null,
      "outputs": [
        {
          "output_type": "display_data",
          "data": {
            "image/png": "[encoded data removed]",
            "text/plain": [
              "<Figure size 432x288 with 1 Axes>"
            ]
          },
          "metadata": {
            "tags": [],
            "needs_background": "light"
          }
        }
      ]
    },
    {
      "cell_type": "code",
      "metadata": {
        "colab": {
          "base_uri": "https://localhost:8080/",
          "height": 295
        },
        "id": "U_hLZLZD2Az9",
        "outputId": "c03906d4-c7cd-4f53-a445-cbe1b56b3f80"
      },
      "source": [
        "# accuracy\n",
        "plt.plot(densenet_adam.history['accuracy'], label='train accuracy')\n",
        "plt.plot(densenet_adam.history['val_accuracy'], label='val accuracy')\n",
        "plt.title(label = 'Accuracy', fontsize = 12, color = \"black\")\n",
        "plt.xlabel('Epoch')\n",
        "plt.ylabel('Accuracy')\n",
        "plt.legend()\n",
        "plt.show()"
      ],
      "execution_count": null,
      "outputs": [
        {
          "output_type": "display_data",
          "data": {
            "image/png": "[encoded data removed]",
            "text/plain": [
              "<Figure size 432x288 with 1 Axes>"
            ]
          },
          "metadata": {
            "tags": [],
            "needs_background": "light"
          }
        }
      ]
    },
    {
      "cell_type": "markdown",
      "metadata": {
        "id": "-7einJ-CEKV3"
      },
      "source": [
        "**Adadelta**"
      ]
    },
    {
      "cell_type": "code",
      "metadata": {
        "id": "gp9RXa5uEGHo"
      },
      "source": [
        "from keras.applications.densenet import DenseNet121\n",
        "from keras.applications.densenet import preprocess_input\n",
        "\n",
        "# re-size all the images to this\n",
        "IMAGE_SIZE = [224, 224]\n",
        "\n",
        "train_path = '/content/gdrive/MyDrive/SVNCKH/Database/train'\n",
        "valid_path = '/content/gdrive/MyDrive/SVNCKH/Database/valid'\n",
        "test_path = '/content/gdrive/MyDrive/SVNCKH/Database/test'"
      ],
      "execution_count": null,
      "outputs": []
    },
    {
      "cell_type": "code",
      "metadata": {
        "id": "047BeOueEWhm"
      },
      "source": [
        "# add preprocessing layer to the front of DenseNet\n",
        "densenet_adadelta = DenseNet121(input_shape=IMAGE_SIZE + [3], weights='imagenet', include_top=False)"
      ],
      "execution_count": null,
      "outputs": []
    },
    {
      "cell_type": "code",
      "metadata": {
        "id": "hRCeDIDMElmf"
      },
      "source": [
        "# don't train existing weights\n",
        "for layer in densenet_adadelta.layers:\n",
        "  layer.trainable = False"
      ],
      "execution_count": null,
      "outputs": []
    },
    {
      "cell_type": "code",
      "metadata": {
        "id": "GkWvYu8OEuE3"
      },
      "source": [
        "# useful for getting number of classes\n",
        "folders = glob('/content/gdrive/MyDrive/SVNCKH/Database/train/*')"
      ],
      "execution_count": null,
      "outputs": []
    },
    {
      "cell_type": "code",
      "metadata": {
        "id": "Eh_qMQqaEyuV"
      },
      "source": [
        "# our layers - you can add more if you want\n",
        "x = Flatten()(densenet_adadelta.output)"
      ],
      "execution_count": null,
      "outputs": []
    },
    {
      "cell_type": "code",
      "metadata": {
        "id": "zAEEHcn0E5Ff"
      },
      "source": [
        "#x = Dense(3, activation='relu')(x)\n",
        "prediction = Dense(len(folders), activation='softmax')(x)"
      ],
      "execution_count": null,
      "outputs": []
    },
    {
      "cell_type": "code",
      "metadata": {
        "id": "NLQyWTC1FDmX"
      },
      "source": [
        "# create a model object\n",
        "model = Model(inputs=densenet_adadelta.input, outputs=prediction)"
      ],
      "execution_count": null,
      "outputs": []
    },
    {
      "cell_type": "code",
      "metadata": {
        "id": "C1qg7BLqFITL"
      },
      "source": [
        "# tell the model what cost and optimization method to use\n",
        "model.compile(\n",
        "  loss='categorical_crossentropy',\n",
        "  optimizer='adadelta',\n",
        "  metrics=['accuracy']\n",
        ")"
      ],
      "execution_count": null,
      "outputs": []
    },
    {
      "cell_type": "code",
      "metadata": {
        "colab": {
          "base_uri": "https://localhost:8080/"
        },
        "id": "SUXwnXKEFRXi",
        "outputId": "aa57d9b0-229c-4555-fb4b-57d48a7a0631"
      },
      "source": [
        "# Add our data-augmentation parameters to ImageDataGenerator\n",
        "train_datagen = ImageDataGenerator(rescale = 1./255,\n",
        "                                   shear_range = 0.2,\n",
        "                                   zoom_range = 0.2,\n",
        "                                   horizontal_flip = True)\n",
        "\n",
        "valid_datagen = ImageDataGenerator(rescale = 1./255)\n",
        "test_datagen = ImageDataGenerator(rescale = 1./255)\n",
        "\n",
        "# Flow training images in batches of 64 using train_datagen generator\n",
        "training_set = train_datagen.flow_from_directory(train_path,\n",
        "                                                 target_size = (224, 224),\n",
        "                                                 batch_size = 64,\n",
        "                                                 class_mode = 'categorical')\n",
        "\n",
        "valid_set = valid_datagen.flow_from_directory(valid_path,\n",
        "                                                 target_size = (224, 224),\n",
        "                                                 batch_size = 64,\n",
        "                                                 class_mode = 'categorical')\n",
        "\n",
        "test_set = test_datagen.flow_from_directory(test_path,\n",
        "                                            target_size = (224, 224),\n",
        "                                            batch_size = 64,\n",
        "                                            class_mode = 'categorical')"
      ],
      "execution_count": null,
      "outputs": [
        {
          "output_type": "stream",
          "text": [
            "Found 1260 images belonging to 6 classes.\n",
            "Found 270 images belonging to 6 classes.\n",
            "Found 270 images belonging to 6 classes.\n"
          ],
          "name": "stdout"
        }
      ]
    },
    {
      "cell_type": "code",
      "metadata": {
        "colab": {
          "base_uri": "https://localhost:8080/"
        },
        "id": "XT0Y4_BkFenb",
        "outputId": "cc1fa76a-1f79-41ef-fc44-7603113d9a78"
      },
      "source": [
        "# fit the model\n",
        "densenet_adadelta = model.fit(\n",
        "  training_set,\n",
        "  validation_data=valid_set,\n",
        "  epochs=30,\n",
        "  steps_per_epoch=len(training_set),\n",
        "  validation_steps=len(valid_set)\n",
        ")"
      ],
      "execution_count": null,
      "outputs": [
        {
          "output_type": "stream",
          "text": [
            "Epoch 1/30\n",
            "20/20 [==============================] - 54s 2s/step - loss: 1.8545 - accuracy: 0.2464 - val_loss: 1.7988 - val_accuracy: 0.2333\n",
            "Epoch 2/30\n",
            "20/20 [==============================] - 20s 984ms/step - loss: 1.7766 - accuracy: 0.2483 - val_loss: 1.7249 - val_accuracy: 0.2852\n",
            "Epoch 3/30\n",
            "20/20 [==============================] - 20s 973ms/step - loss: 1.7027 - accuracy: 0.3058 - val_loss: 1.6607 - val_accuracy: 0.3185\n",
            "Epoch 4/30\n",
            "20/20 [==============================] - 20s 975ms/step - loss: 1.5960 - accuracy: 0.3619 - val_loss: 1.6029 - val_accuracy: 0.3556\n",
            "Epoch 5/30\n",
            "20/20 [==============================] - 20s 988ms/step - loss: 1.5622 - accuracy: 0.3674 - val_loss: 1.5491 - val_accuracy: 0.3704\n",
            "Epoch 6/30\n",
            "20/20 [==============================] - 20s 976ms/step - loss: 1.5022 - accuracy: 0.4129 - val_loss: 1.4966 - val_accuracy: 0.3926\n",
            "Epoch 7/30\n",
            "20/20 [==============================] - 20s 988ms/step - loss: 1.4763 - accuracy: 0.4146 - val_loss: 1.4509 - val_accuracy: 0.4407\n",
            "Epoch 8/30\n",
            "20/20 [==============================] - 20s 969ms/step - loss: 1.3900 - accuracy: 0.5033 - val_loss: 1.4050 - val_accuracy: 0.4667\n",
            "Epoch 9/30\n",
            "20/20 [==============================] - 19s 983ms/step - loss: 1.3694 - accuracy: 0.5154 - val_loss: 1.3623 - val_accuracy: 0.5037\n",
            "Epoch 10/30\n",
            "20/20 [==============================] - 20s 986ms/step - loss: 1.3076 - accuracy: 0.5356 - val_loss: 1.3209 - val_accuracy: 0.5481\n",
            "Epoch 11/30\n",
            "20/20 [==============================] - 20s 993ms/step - loss: 1.2661 - accuracy: 0.5864 - val_loss: 1.2814 - val_accuracy: 0.5667\n",
            "Epoch 12/30\n",
            "20/20 [==============================] - 20s 981ms/step - loss: 1.2149 - accuracy: 0.6087 - val_loss: 1.2444 - val_accuracy: 0.5852\n",
            "Epoch 13/30\n",
            "20/20 [==============================] - 20s 970ms/step - loss: 1.1568 - accuracy: 0.6622 - val_loss: 1.2085 - val_accuracy: 0.6111\n",
            "Epoch 14/30\n",
            "20/20 [==============================] - 20s 969ms/step - loss: 1.1524 - accuracy: 0.6435 - val_loss: 1.1743 - val_accuracy: 0.6444\n",
            "Epoch 15/30\n",
            "20/20 [==============================] - 20s 972ms/step - loss: 1.1116 - accuracy: 0.6919 - val_loss: 1.1403 - val_accuracy: 0.6630\n",
            "Epoch 16/30\n",
            "20/20 [==============================] - 20s 968ms/step - loss: 1.0920 - accuracy: 0.6832 - val_loss: 1.1094 - val_accuracy: 0.6741\n",
            "Epoch 17/30\n",
            "20/20 [==============================] - 20s 971ms/step - loss: 1.0439 - accuracy: 0.7329 - val_loss: 1.0795 - val_accuracy: 0.6963\n",
            "Epoch 18/30\n",
            "20/20 [==============================] - 19s 962ms/step - loss: 1.0002 - accuracy: 0.7623 - val_loss: 1.0503 - val_accuracy: 0.7148\n",
            "Epoch 19/30\n",
            "20/20 [==============================] - 19s 964ms/step - loss: 0.9773 - accuracy: 0.7673 - val_loss: 1.0216 - val_accuracy: 0.7407\n",
            "Epoch 20/30\n",
            "20/20 [==============================] - 19s 965ms/step - loss: 0.9683 - accuracy: 0.7919 - val_loss: 0.9948 - val_accuracy: 0.7593\n",
            "Epoch 21/30\n",
            "20/20 [==============================] - 19s 952ms/step - loss: 0.9159 - accuracy: 0.7942 - val_loss: 0.9690 - val_accuracy: 0.7741\n",
            "Epoch 22/30\n",
            "20/20 [==============================] - 20s 981ms/step - loss: 0.8914 - accuracy: 0.8395 - val_loss: 0.9435 - val_accuracy: 0.7889\n",
            "Epoch 23/30\n",
            "20/20 [==============================] - 19s 978ms/step - loss: 0.8678 - accuracy: 0.8230 - val_loss: 0.9190 - val_accuracy: 0.8000\n",
            "Epoch 24/30\n",
            "20/20 [==============================] - 19s 956ms/step - loss: 0.8333 - accuracy: 0.8551 - val_loss: 0.8962 - val_accuracy: 0.8037\n",
            "Epoch 25/30\n",
            "20/20 [==============================] - 20s 974ms/step - loss: 0.8137 - accuracy: 0.8645 - val_loss: 0.8737 - val_accuracy: 0.8074\n",
            "Epoch 26/30\n",
            "20/20 [==============================] - 19s 957ms/step - loss: 0.7709 - accuracy: 0.8800 - val_loss: 0.8525 - val_accuracy: 0.8296\n",
            "Epoch 27/30\n",
            "20/20 [==============================] - 19s 967ms/step - loss: 0.7645 - accuracy: 0.8790 - val_loss: 0.8323 - val_accuracy: 0.8407\n",
            "Epoch 28/30\n",
            "20/20 [==============================] - 19s 977ms/step - loss: 0.7523 - accuracy: 0.8759 - val_loss: 0.8130 - val_accuracy: 0.8444\n",
            "Epoch 29/30\n",
            "20/20 [==============================] - 20s 971ms/step - loss: 0.7092 - accuracy: 0.8973 - val_loss: 0.7933 - val_accuracy: 0.8667\n",
            "Epoch 30/30\n",
            "20/20 [==============================] - 20s 998ms/step - loss: 0.7026 - accuracy: 0.8937 - val_loss: 0.7747 - val_accuracy: 0.8741\n"
          ],
          "name": "stdout"
        }
      ]
    },
    {
      "cell_type": "code",
      "metadata": {
        "colab": {
          "base_uri": "https://localhost:8080/"
        },
        "id": "mbhkRSCHFjUt",
        "outputId": "c524fa47-1439-4f09-b9a5-28cc8a9ddfbe"
      },
      "source": [
        "# testing\n",
        "score = model.evaluate(test_set, verbose=0)\n",
        "print(f'Test loss: {score[0]:.4f}')\n",
        "print(f'Test accuracy: {score[1]:.4f}')"
      ],
      "execution_count": null,
      "outputs": [
        {
          "output_type": "stream",
          "text": [
            "Test loss: 0.8258\n",
            "Test accuracy: 0.8296\n"
          ],
          "name": "stdout"
        }
      ]
    },
    {
      "cell_type": "code",
      "metadata": {
        "colab": {
          "base_uri": "https://localhost:8080/",
          "height": 295
        },
        "id": "rrp1ipFTFuFB",
        "outputId": "ed275f49-12d8-4f96-d226-ff62513448f2"
      },
      "source": [
        "# loss\n",
        "plt.plot(densenet_adadelta.history['loss'], label='train loss')\n",
        "plt.plot(densenet_adadelta.history['val_loss'], label='val loss')\n",
        "plt.title(label = 'Loss', fontsize = 12, color = \"black\")\n",
        "plt.xlabel('Epoch')\n",
        "plt.ylabel('Loss')\n",
        "plt.legend()\n",
        "plt.show()"
      ],
      "execution_count": null,
      "outputs": [
        {
          "output_type": "display_data",
          "data": {
            "image/png": "[encoded data removed]",
            "text/plain": [
              "<Figure size 432x288 with 1 Axes>"
            ]
          },
          "metadata": {
            "tags": [],
            "needs_background": "light"
          }
        }
      ]
    },
    {
      "cell_type": "code",
      "metadata": {
        "colab": {
          "base_uri": "https://localhost:8080/",
          "height": 295
        },
        "id": "WDDEcQ7RF3Qi",
        "outputId": "6cc5de81-c6b1-4b86-b84c-2ae2f872f8ea"
      },
      "source": [
        "# accuracy\n",
        "plt.plot(densenet_adadelta.history['accuracy'], label='train accuracy')\n",
        "plt.plot(densenet_adadelta.history['val_accuracy'], label='val accuracy')\n",
        "plt.title(label = 'Accuracy', fontsize = 12, color = \"black\")\n",
        "plt.xlabel('Epoch')\n",
        "plt.ylabel('Accuracy')\n",
        "plt.legend()\n",
        "plt.show()"
      ],
      "execution_count": null,
      "outputs": [
        {
          "output_type": "display_data",
          "data": {
            "image/png": "[encoded data removed]",
            "text/plain": [
              "<Figure size 432x288 with 1 Axes>"
            ]
          },
          "metadata": {
            "tags": [],
            "needs_background": "light"
          }
        }
      ]
    },
    {
      "cell_type": "markdown",
      "metadata": {
        "id": "11c_8VviF-Yj"
      },
      "source": [
        "**Adamax**"
      ]
    },
    {
      "cell_type": "code",
      "metadata": {
        "id": "69R6flB5GIBY"
      },
      "source": [
        "from keras.applications.densenet import DenseNet121\n",
        "from keras.applications.densenet import preprocess_input\n",
        "\n",
        "# re-size all the images to this\n",
        "IMAGE_SIZE = [224, 224]\n",
        "\n",
        "train_path = '/content/gdrive/MyDrive/SVNCKH/Database/train'\n",
        "valid_path = '/content/gdrive/MyDrive/SVNCKH/Database/valid'\n",
        "test_path = '/content/gdrive/MyDrive/SVNCKH/Database/test'"
      ],
      "execution_count": null,
      "outputs": []
    },
    {
      "cell_type": "code",
      "metadata": {
        "id": "WWmfU0TzGJiK"
      },
      "source": [
        "# add preprocessing layer to the front of DenseNet\n",
        "densenet_adamax = DenseNet121(input_shape=IMAGE_SIZE + [3], weights='imagenet', include_top=False)"
      ],
      "execution_count": null,
      "outputs": []
    },
    {
      "cell_type": "code",
      "metadata": {
        "id": "Y4HSNVA3GPkr"
      },
      "source": [
        "# don't train existing weights\n",
        "for layer in densenet_adamax.layers:\n",
        "  layer.trainable = False"
      ],
      "execution_count": null,
      "outputs": []
    },
    {
      "cell_type": "code",
      "metadata": {
        "id": "oha3o9uxGUuf"
      },
      "source": [
        "# useful for getting number of classes\n",
        "folders = glob('/content/gdrive/MyDrive/SVNCKH/Database/train/*')"
      ],
      "execution_count": null,
      "outputs": []
    },
    {
      "cell_type": "code",
      "metadata": {
        "id": "ejyDIlsgGYOG"
      },
      "source": [
        "# our layers - you can add more if you want\n",
        "x = Flatten()(densenet_adamax.output)"
      ],
      "execution_count": null,
      "outputs": []
    },
    {
      "cell_type": "code",
      "metadata": {
        "id": "EbRnABvgGfpU"
      },
      "source": [
        "#x = Dense(3, activation='relu')(x)\n",
        "prediction = Dense(len(folders), activation='softmax')(x)"
      ],
      "execution_count": null,
      "outputs": []
    },
    {
      "cell_type": "code",
      "metadata": {
        "id": "_oJtJDnwGka7"
      },
      "source": [
        "# create a model object\n",
        "model = Model(inputs=densenet_adamax.input, outputs=prediction)"
      ],
      "execution_count": null,
      "outputs": []
    },
    {
      "cell_type": "code",
      "metadata": {
        "id": "CX1-RS6vGq64"
      },
      "source": [
        "# tell the model what cost and optimization method to use\n",
        "model.compile(\n",
        "  loss='categorical_crossentropy',\n",
        "  optimizer='adamax',\n",
        "  metrics=['accuracy']\n",
        ")"
      ],
      "execution_count": null,
      "outputs": []
    },
    {
      "cell_type": "code",
      "metadata": {
        "colab": {
          "base_uri": "https://localhost:8080/"
        },
        "id": "v5avcgnVGwuH",
        "outputId": "90ff1fb0-c6f9-4765-fc78-75c1b4b0d6cd"
      },
      "source": [
        "# Add our data-augmentation parameters to ImageDataGenerator\n",
        "train_datagen = ImageDataGenerator(rescale = 1./255,\n",
        "                                   shear_range = 0.2,\n",
        "                                   zoom_range = 0.2,\n",
        "                                   horizontal_flip = True)\n",
        "\n",
        "valid_datagen = ImageDataGenerator(rescale = 1./255)\n",
        "test_datagen = ImageDataGenerator(rescale = 1./255)\n",
        "\n",
        "# Flow training images in batches of 64 using train_datagen generator\n",
        "training_set = train_datagen.flow_from_directory(train_path,\n",
        "                                                 target_size = (224, 224),\n",
        "                                                 batch_size = 64,\n",
        "                                                 class_mode = 'categorical')\n",
        "\n",
        "valid_set = valid_datagen.flow_from_directory(valid_path,\n",
        "                                                 target_size = (224, 224),\n",
        "                                                 batch_size = 64,\n",
        "                                                 class_mode = 'categorical')\n",
        "\n",
        "test_set = test_datagen.flow_from_directory(test_path,\n",
        "                                            target_size = (224, 224),\n",
        "                                            batch_size = 64,\n",
        "                                            class_mode = 'categorical')"
      ],
      "execution_count": null,
      "outputs": [
        {
          "output_type": "stream",
          "text": [
            "Found 1260 images belonging to 6 classes.\n",
            "Found 270 images belonging to 6 classes.\n",
            "Found 270 images belonging to 6 classes.\n"
          ],
          "name": "stdout"
        }
      ]
    },
    {
      "cell_type": "code",
      "metadata": {
        "colab": {
          "base_uri": "https://localhost:8080/"
        },
        "id": "m-JcCtTTG2AN",
        "outputId": "b48ea2e0-b295-4057-fe93-57e0d0d5641c"
      },
      "source": [
        "# fit the model\n",
        "densenet_adamax = model.fit(\n",
        "  training_set,\n",
        "  validation_data=valid_set,\n",
        "  epochs=30,\n",
        "  steps_per_epoch=len(training_set),\n",
        "  validation_steps=len(valid_set)\n",
        ")"
      ],
      "execution_count": null,
      "outputs": [
        {
          "output_type": "stream",
          "text": [
            "Epoch 1/30\n",
            "20/20 [==============================] - 56s 2s/step - loss: 1.5526 - accuracy: 0.5767 - val_loss: 0.0976 - val_accuracy: 0.9630\n",
            "Epoch 2/30\n",
            "20/20 [==============================] - 20s 997ms/step - loss: 0.0505 - accuracy: 0.9866 - val_loss: 0.0437 - val_accuracy: 0.9889\n",
            "Epoch 3/30\n",
            "20/20 [==============================] - 20s 1s/step - loss: 0.0219 - accuracy: 0.9939 - val_loss: 0.0508 - val_accuracy: 0.9852\n",
            "Epoch 4/30\n",
            "20/20 [==============================] - 20s 997ms/step - loss: 0.0189 - accuracy: 0.9944 - val_loss: 0.0378 - val_accuracy: 0.9889\n",
            "Epoch 5/30\n",
            "20/20 [==============================] - 20s 1000ms/step - loss: 0.0162 - accuracy: 0.9959 - val_loss: 0.0478 - val_accuracy: 0.9852\n",
            "Epoch 6/30\n",
            "20/20 [==============================] - 20s 1s/step - loss: 0.0134 - accuracy: 0.9983 - val_loss: 0.0400 - val_accuracy: 0.9889\n",
            "Epoch 7/30\n",
            "20/20 [==============================] - 20s 996ms/step - loss: 0.0140 - accuracy: 0.9966 - val_loss: 0.0389 - val_accuracy: 0.9852\n",
            "Epoch 8/30\n",
            "20/20 [==============================] - 20s 995ms/step - loss: 0.0140 - accuracy: 0.9990 - val_loss: 0.0423 - val_accuracy: 0.9852\n",
            "Epoch 9/30\n",
            "20/20 [==============================] - 19s 946ms/step - loss: 0.0146 - accuracy: 0.9946 - val_loss: 0.0371 - val_accuracy: 0.9889\n",
            "Epoch 10/30\n",
            "20/20 [==============================] - 20s 976ms/step - loss: 0.0075 - accuracy: 0.9995 - val_loss: 0.0355 - val_accuracy: 0.9889\n",
            "Epoch 11/30\n",
            "20/20 [==============================] - 20s 974ms/step - loss: 0.0081 - accuracy: 0.9991 - val_loss: 0.0387 - val_accuracy: 0.9926\n",
            "Epoch 12/30\n",
            "20/20 [==============================] - 20s 979ms/step - loss: 0.0096 - accuracy: 1.0000 - val_loss: 0.0331 - val_accuracy: 0.9889\n",
            "Epoch 13/30\n",
            "20/20 [==============================] - 20s 978ms/step - loss: 0.0091 - accuracy: 0.9968 - val_loss: 0.0423 - val_accuracy: 0.9852\n",
            "Epoch 14/30\n",
            "20/20 [==============================] - 20s 967ms/step - loss: 0.0081 - accuracy: 1.0000 - val_loss: 0.0404 - val_accuracy: 0.9852\n",
            "Epoch 15/30\n",
            "20/20 [==============================] - 19s 964ms/step - loss: 0.0084 - accuracy: 0.9992 - val_loss: 0.0391 - val_accuracy: 0.9889\n",
            "Epoch 16/30\n",
            "20/20 [==============================] - 19s 953ms/step - loss: 0.0081 - accuracy: 1.0000 - val_loss: 0.0322 - val_accuracy: 0.9926\n",
            "Epoch 17/30\n",
            "20/20 [==============================] - 19s 953ms/step - loss: 0.0050 - accuracy: 1.0000 - val_loss: 0.0367 - val_accuracy: 0.9852\n",
            "Epoch 18/30\n",
            "20/20 [==============================] - 19s 944ms/step - loss: 0.0087 - accuracy: 0.9973 - val_loss: 0.0331 - val_accuracy: 0.9889\n",
            "Epoch 19/30\n",
            "20/20 [==============================] - 19s 962ms/step - loss: 0.0050 - accuracy: 1.0000 - val_loss: 0.0303 - val_accuracy: 0.9889\n",
            "Epoch 20/30\n",
            "20/20 [==============================] - 19s 947ms/step - loss: 0.0060 - accuracy: 1.0000 - val_loss: 0.0326 - val_accuracy: 0.9889\n",
            "Epoch 21/30\n",
            "20/20 [==============================] - 19s 962ms/step - loss: 0.0059 - accuracy: 0.9996 - val_loss: 0.0295 - val_accuracy: 0.9926\n",
            "Epoch 22/30\n",
            "20/20 [==============================] - 20s 993ms/step - loss: 0.0050 - accuracy: 0.9995 - val_loss: 0.0356 - val_accuracy: 0.9889\n",
            "Epoch 23/30\n",
            "20/20 [==============================] - 20s 989ms/step - loss: 0.0052 - accuracy: 1.0000 - val_loss: 0.0341 - val_accuracy: 0.9889\n",
            "Epoch 24/30\n",
            "20/20 [==============================] - 20s 1s/step - loss: 0.0066 - accuracy: 0.9990 - val_loss: 0.0318 - val_accuracy: 0.9889\n",
            "Epoch 25/30\n",
            "20/20 [==============================] - 20s 987ms/step - loss: 0.0044 - accuracy: 1.0000 - val_loss: 0.0342 - val_accuracy: 0.9889\n",
            "Epoch 26/30\n",
            "20/20 [==============================] - 20s 971ms/step - loss: 0.0057 - accuracy: 1.0000 - val_loss: 0.0347 - val_accuracy: 0.9889\n",
            "Epoch 27/30\n",
            "20/20 [==============================] - 20s 980ms/step - loss: 0.0038 - accuracy: 1.0000 - val_loss: 0.0293 - val_accuracy: 0.9889\n",
            "Epoch 28/30\n",
            "20/20 [==============================] - 20s 984ms/step - loss: 0.0038 - accuracy: 1.0000 - val_loss: 0.0312 - val_accuracy: 0.9889\n",
            "Epoch 29/30\n",
            "20/20 [==============================] - 20s 977ms/step - loss: 0.0053 - accuracy: 1.0000 - val_loss: 0.0257 - val_accuracy: 0.9926\n",
            "Epoch 30/30\n",
            "20/20 [==============================] - 20s 976ms/step - loss: 0.0062 - accuracy: 1.0000 - val_loss: 0.0275 - val_accuracy: 0.9926\n"
          ],
          "name": "stdout"
        }
      ]
    },
    {
      "cell_type": "code",
      "metadata": {
        "colab": {
          "base_uri": "https://localhost:8080/"
        },
        "id": "kRx0G0VoG8MK",
        "outputId": "389b2805-c5cf-4637-f500-84974a03863f"
      },
      "source": [
        "# testing\n",
        "score = model.evaluate(test_set, verbose=0)\n",
        "print(f'Test loss: {score[0]:.4f}')\n",
        "print(f'Test accuracy: {score[1]:.4f}')"
      ],
      "execution_count": null,
      "outputs": [
        {
          "output_type": "stream",
          "text": [
            "Test loss: 0.0332\n",
            "Test accuracy: 0.9889\n"
          ],
          "name": "stdout"
        }
      ]
    },
    {
      "cell_type": "code",
      "metadata": {
        "colab": {
          "base_uri": "https://localhost:8080/",
          "height": 295
        },
        "id": "jDLcga5VG_a4",
        "outputId": "0db7230f-1e45-4b31-d0dc-da26ba72000b"
      },
      "source": [
        "# loss\n",
        "plt.plot(densenet_adamax.history['loss'], label='train loss')\n",
        "plt.plot(densenet_adamax.history['val_loss'], label='val loss')\n",
        "plt.title(label = 'Loss', fontsize = 12, color = \"black\")\n",
        "plt.xlabel('Epoch')\n",
        "plt.ylabel('Loss')\n",
        "plt.legend()\n",
        "plt.show()"
      ],
      "execution_count": null,
      "outputs": [
        {
          "output_type": "display_data",
          "data": {
            "image/png": "[encoded data removed]",
            "text/plain": [
              "<Figure size 432x288 with 1 Axes>"
            ]
          },
          "metadata": {
            "tags": [],
            "needs_background": "light"
          }
        }
      ]
    },
    {
      "cell_type": "code",
      "metadata": {
        "colab": {
          "base_uri": "https://localhost:8080/",
          "height": 295
        },
        "id": "r6lZMV9rHHAD",
        "outputId": "308ff7e6-52e8-468a-8762-d8d963b1139c"
      },
      "source": [
        "# accuracy\n",
        "plt.plot(densenet_adamax.history['accuracy'], label='train accuracy')\n",
        "plt.plot(densenet_adamax.history['val_accuracy'], label='val accuracy')\n",
        "plt.title(label = 'Accuracy', fontsize = 12, color = \"black\")\n",
        "plt.xlabel('Epoch')\n",
        "plt.ylabel('Accuracy')\n",
        "plt.legend()\n",
        "plt.show()"
      ],
      "execution_count": null,
      "outputs": [
        {
          "output_type": "display_data",
          "data": {
            "image/png": "[encoded data removed]",
            "text/plain": [
              "<Figure size 432x288 with 1 Axes>"
            ]
          },
          "metadata": {
            "tags": [],
            "needs_background": "light"
          }
        }
      ]
    },
    {
      "cell_type": "markdown",
      "metadata": {
        "id": "ys2uCqIxIHhS"
      },
      "source": [
        "Ftrl"
      ]
    },
    {
      "cell_type": "code",
      "metadata": {
        "id": "50n3rS3fIJ1H"
      },
      "source": [
        "from keras.applications.densenet import DenseNet121\n",
        "from keras.applications.densenet import preprocess_input\n",
        "\n",
        "# re-size all the images to this\n",
        "IMAGE_SIZE = [224, 224]\n",
        "\n",
        "train_path = '/content/gdrive/MyDrive/SVNCKH/Database/train'\n",
        "valid_path = '/content/gdrive/MyDrive/SVNCKH/Database/valid'\n",
        "test_path = '/content/gdrive/MyDrive/SVNCKH/Database/test'"
      ],
      "execution_count": null,
      "outputs": []
    },
    {
      "cell_type": "code",
      "metadata": {
        "id": "2GpxnBZHIbdY"
      },
      "source": [
        "# add preprocessing layer to the front of DenseNet\n",
        "densenet_ftrl = DenseNet121(input_shape=IMAGE_SIZE + [3], weights='imagenet', include_top=False)"
      ],
      "execution_count": null,
      "outputs": []
    },
    {
      "cell_type": "code",
      "metadata": {
        "id": "1AwpDXekIf3q"
      },
      "source": [
        "# don't train existing weights\n",
        "for layer in densenet_ftrl.layers:\n",
        "  layer.trainable = False"
      ],
      "execution_count": null,
      "outputs": []
    },
    {
      "cell_type": "code",
      "metadata": {
        "id": "bQo10rA_Ij_J"
      },
      "source": [
        "# useful for getting number of classes\n",
        "folders = glob('/content/gdrive/MyDrive/SVNCKH/Database/train/*')"
      ],
      "execution_count": null,
      "outputs": []
    },
    {
      "cell_type": "code",
      "metadata": {
        "id": "9kQM4GTNInl7"
      },
      "source": [
        "# our layers - you can add more if you want\n",
        "x = Flatten()(densenet_ftrl.output)"
      ],
      "execution_count": null,
      "outputs": []
    },
    {
      "cell_type": "code",
      "metadata": {
        "id": "DBZbIdBFIq68"
      },
      "source": [
        "#x = Dense(3, activation='relu')(x)\n",
        "prediction = Dense(len(folders), activation='softmax')(x)"
      ],
      "execution_count": null,
      "outputs": []
    },
    {
      "cell_type": "code",
      "metadata": {
        "id": "fKAzv6NQIuLo"
      },
      "source": [
        "# create a model object\n",
        "model = Model(inputs=densenet_ftrl.input, outputs=prediction)"
      ],
      "execution_count": null,
      "outputs": []
    },
    {
      "cell_type": "code",
      "metadata": {
        "id": "Uou2NY-LIxup"
      },
      "source": [
        "# tell the model what cost and optimization method to use\n",
        "model.compile(\n",
        "  loss='categorical_crossentropy',\n",
        "  optimizer='ftrl',\n",
        "  metrics=['accuracy']\n",
        ")"
      ],
      "execution_count": null,
      "outputs": []
    },
    {
      "cell_type": "code",
      "metadata": {
        "colab": {
          "base_uri": "https://localhost:8080/"
        },
        "id": "VIRdqtc3I1Pr",
        "outputId": "128072a0-f809-4808-82e6-18cd872b88fd"
      },
      "source": [
        "# Add our data-augmentation parameters to ImageDataGenerator\n",
        "train_datagen = ImageDataGenerator(rescale = 1./255,\n",
        "                                   shear_range = 0.2,\n",
        "                                   zoom_range = 0.2,\n",
        "                                   horizontal_flip = True)\n",
        "\n",
        "valid_datagen = ImageDataGenerator(rescale = 1./255)\n",
        "test_datagen = ImageDataGenerator(rescale = 1./255)\n",
        "\n",
        "# Flow training images in batches of 64 using train_datagen generator\n",
        "training_set = train_datagen.flow_from_directory(train_path,\n",
        "                                                 target_size = (224, 224),\n",
        "                                                 batch_size = 64,\n",
        "                                                 class_mode = 'categorical')\n",
        "\n",
        "valid_set = valid_datagen.flow_from_directory(valid_path,\n",
        "                                                 target_size = (224, 224),\n",
        "                                                 batch_size = 64,\n",
        "                                                 class_mode = 'categorical')\n",
        "\n",
        "test_set = test_datagen.flow_from_directory(test_path,\n",
        "                                            target_size = (224, 224),\n",
        "                                            batch_size = 64,\n",
        "                                            class_mode = 'categorical')"
      ],
      "execution_count": null,
      "outputs": [
        {
          "output_type": "stream",
          "text": [
            "Found 1260 images belonging to 6 classes.\n",
            "Found 270 images belonging to 6 classes.\n",
            "Found 270 images belonging to 6 classes.\n"
          ],
          "name": "stdout"
        }
      ]
    },
    {
      "cell_type": "code",
      "metadata": {
        "colab": {
          "base_uri": "https://localhost:8080/"
        },
        "id": "rg-O5_ueI5cp",
        "outputId": "1c0b4fa3-a7da-4322-ed14-691626430ae7"
      },
      "source": [
        "# fit the model\n",
        "densenet_ftrl = model.fit(\n",
        "  training_set,\n",
        "  validation_data=valid_set,\n",
        "  epochs=30,\n",
        "  steps_per_epoch=len(training_set),\n",
        "  validation_steps=len(valid_set)\n",
        ")"
      ],
      "execution_count": null,
      "outputs": [
        {
          "output_type": "stream",
          "text": [
            "Epoch 1/30\n",
            "20/20 [==============================] - 55s 2s/step - loss: 1.1616 - accuracy: 0.6302 - val_loss: 0.3360 - val_accuracy: 0.9148\n",
            "Epoch 2/30\n",
            "20/20 [==============================] - 20s 983ms/step - loss: 0.2011 - accuracy: 0.9820 - val_loss: 0.2202 - val_accuracy: 0.9667\n",
            "Epoch 3/30\n",
            "20/20 [==============================] - 20s 980ms/step - loss: 0.1248 - accuracy: 0.9880 - val_loss: 0.1634 - val_accuracy: 0.9852\n",
            "Epoch 4/30\n",
            "20/20 [==============================] - 21s 1s/step - loss: 0.0948 - accuracy: 0.9949 - val_loss: 0.1479 - val_accuracy: 0.9852\n",
            "Epoch 5/30\n",
            "20/20 [==============================] - 20s 1000ms/step - loss: 0.0696 - accuracy: 0.9954 - val_loss: 0.1375 - val_accuracy: 0.9778\n",
            "Epoch 6/30\n",
            "20/20 [==============================] - 20s 998ms/step - loss: 0.0665 - accuracy: 0.9945 - val_loss: 0.1192 - val_accuracy: 0.9852\n",
            "Epoch 7/30\n",
            "20/20 [==============================] - 20s 992ms/step - loss: 0.0588 - accuracy: 0.9929 - val_loss: 0.1142 - val_accuracy: 0.9778\n",
            "Epoch 8/30\n",
            "20/20 [==============================] - 20s 981ms/step - loss: 0.0515 - accuracy: 0.9932 - val_loss: 0.1016 - val_accuracy: 0.9926\n",
            "Epoch 9/30\n",
            "20/20 [==============================] - 20s 989ms/step - loss: 0.0449 - accuracy: 0.9962 - val_loss: 0.1054 - val_accuracy: 0.9815\n",
            "Epoch 10/30\n",
            "20/20 [==============================] - 20s 985ms/step - loss: 0.0430 - accuracy: 0.9953 - val_loss: 0.0946 - val_accuracy: 0.9852\n",
            "Epoch 11/30\n",
            "20/20 [==============================] - 20s 976ms/step - loss: 0.0409 - accuracy: 0.9942 - val_loss: 0.0909 - val_accuracy: 0.9852\n",
            "Epoch 12/30\n",
            "20/20 [==============================] - 20s 976ms/step - loss: 0.0371 - accuracy: 0.9973 - val_loss: 0.0965 - val_accuracy: 0.9778\n",
            "Epoch 13/30\n",
            "20/20 [==============================] - 20s 988ms/step - loss: 0.0352 - accuracy: 0.9982 - val_loss: 0.0933 - val_accuracy: 0.9815\n",
            "Epoch 14/30\n",
            "20/20 [==============================] - 20s 983ms/step - loss: 0.0335 - accuracy: 0.9973 - val_loss: 0.0833 - val_accuracy: 0.9889\n",
            "Epoch 15/30\n",
            "20/20 [==============================] - 20s 980ms/step - loss: 0.0291 - accuracy: 0.9966 - val_loss: 0.0870 - val_accuracy: 0.9852\n",
            "Epoch 16/30\n",
            "20/20 [==============================] - 20s 1s/step - loss: 0.0296 - accuracy: 0.9974 - val_loss: 0.0830 - val_accuracy: 0.9889\n",
            "Epoch 17/30\n",
            "20/20 [==============================] - 21s 1s/step - loss: 0.0288 - accuracy: 0.9980 - val_loss: 0.0793 - val_accuracy: 0.9852\n",
            "Epoch 18/30\n",
            "20/20 [==============================] - 20s 997ms/step - loss: 0.0302 - accuracy: 0.9932 - val_loss: 0.0766 - val_accuracy: 0.9889\n",
            "Epoch 19/30\n",
            "20/20 [==============================] - 20s 1s/step - loss: 0.0250 - accuracy: 0.9993 - val_loss: 0.0749 - val_accuracy: 0.9852\n",
            "Epoch 20/30\n",
            "20/20 [==============================] - 20s 1s/step - loss: 0.0236 - accuracy: 0.9995 - val_loss: 0.0755 - val_accuracy: 0.9852\n",
            "Epoch 21/30\n",
            "20/20 [==============================] - 20s 1s/step - loss: 0.0268 - accuracy: 0.9969 - val_loss: 0.0684 - val_accuracy: 0.9926\n",
            "Epoch 22/30\n",
            "20/20 [==============================] - 21s 1s/step - loss: 0.0209 - accuracy: 0.9993 - val_loss: 0.0682 - val_accuracy: 0.9889\n",
            "Epoch 23/30\n",
            "20/20 [==============================] - 20s 987ms/step - loss: 0.0221 - accuracy: 0.9989 - val_loss: 0.0719 - val_accuracy: 0.9889\n",
            "Epoch 24/30\n",
            "20/20 [==============================] - 20s 1s/step - loss: 0.0190 - accuracy: 1.0000 - val_loss: 0.0657 - val_accuracy: 0.9926\n",
            "Epoch 25/30\n",
            "20/20 [==============================] - 21s 1s/step - loss: 0.0215 - accuracy: 0.9992 - val_loss: 0.0632 - val_accuracy: 0.9963\n",
            "Epoch 26/30\n",
            "20/20 [==============================] - 20s 1s/step - loss: 0.0230 - accuracy: 0.9996 - val_loss: 0.0672 - val_accuracy: 0.9889\n",
            "Epoch 27/30\n",
            "20/20 [==============================] - 20s 1s/step - loss: 0.0188 - accuracy: 0.9976 - val_loss: 0.0645 - val_accuracy: 0.9926\n",
            "Epoch 28/30\n",
            "20/20 [==============================] - 20s 1s/step - loss: 0.0212 - accuracy: 0.9950 - val_loss: 0.0628 - val_accuracy: 0.9926\n",
            "Epoch 29/30\n",
            "20/20 [==============================] - 20s 1s/step - loss: 0.0230 - accuracy: 0.9972 - val_loss: 0.0593 - val_accuracy: 0.9963\n",
            "Epoch 30/30\n",
            "20/20 [==============================] - 21s 1s/step - loss: 0.0199 - accuracy: 0.9959 - val_loss: 0.0587 - val_accuracy: 0.9963\n"
          ],
          "name": "stdout"
        }
      ]
    },
    {
      "cell_type": "code",
      "metadata": {
        "colab": {
          "base_uri": "https://localhost:8080/"
        },
        "id": "qmjHdoa5I9q-",
        "outputId": "d0821b25-0868-4ac2-aa9f-e5e1d26b2d6e"
      },
      "source": [
        "# testing\n",
        "score = model.evaluate(test_set, verbose=0)\n",
        "print(f'Test loss: {score[0]:.4f}')\n",
        "print(f'Test accuracy: {score[1]:.4f}')"
      ],
      "execution_count": null,
      "outputs": [
        {
          "output_type": "stream",
          "text": [
            "Test loss: 0.0505\n",
            "Test accuracy: 0.9852\n"
          ],
          "name": "stdout"
        }
      ]
    },
    {
      "cell_type": "code",
      "metadata": {
        "colab": {
          "base_uri": "https://localhost:8080/",
          "height": 295
        },
        "id": "admzlLL0Jmxj",
        "outputId": "ff597588-d459-4614-92ee-b5740b698dba"
      },
      "source": [
        "# loss\n",
        "plt.plot(densenet_ftrl.history['loss'], label='train loss')\n",
        "plt.plot(densenet_ftrl.history['val_loss'], label='val loss')\n",
        "plt.title(label = 'Loss', fontsize = 12, color = \"black\")\n",
        "plt.xlabel('Epoch')\n",
        "plt.ylabel('Loss')\n",
        "plt.legend()\n",
        "plt.show()"
      ],
      "execution_count": null,
      "outputs": [
        {
          "output_type": "display_data",
          "data": {
            "image/png": "[encoded data removed]",
            "text/plain": [
              "<Figure size 432x288 with 1 Axes>"
            ]
          },
          "metadata": {
            "tags": [],
            "needs_background": "light"
          }
        }
      ]
    },
    {
      "cell_type": "code",
      "metadata": {
        "colab": {
          "base_uri": "https://localhost:8080/",
          "height": 295
        },
        "id": "z98Wi5X_Jqog",
        "outputId": "5354be67-b5d2-4654-a96c-d0b95c9b6442"
      },
      "source": [
        "# accuracy\n",
        "plt.plot(densenet_ftrl.history['accuracy'], label='train accuracy')\n",
        "plt.plot(densenet_ftrl.history['val_accuracy'], label='val accuracy')\n",
        "plt.title(label = 'Accuracy', fontsize = 12, color = \"black\")\n",
        "plt.xlabel('Epoch')\n",
        "plt.ylabel('Accuracy')\n",
        "plt.legend()\n",
        "plt.show()"
      ],
      "execution_count": null,
      "outputs": [
        {
          "output_type": "display_data",
          "data": {
            "image/png": "[encoded data removed]",
            "text/plain": [
              "<Figure size 432x288 with 1 Axes>"
            ]
          },
          "metadata": {
            "tags": [],
            "needs_background": "light"
          }
        }
      ]
    },
    {
      "cell_type": "markdown",
      "metadata": {
        "id": "5iUlS_toDd8G"
      },
      "source": [
        "**The accuracy comparison charts:**"
      ]
    },
    {
      "cell_type": "code",
      "metadata": {
        "colab": {
          "base_uri": "https://localhost:8080/",
          "height": 348
        },
        "id": "IGrfcvh1a6Dt",
        "outputId": "43210525-5fcc-450f-8865-92cc0e9674d5"
      },
      "source": [
        "# train accuracy\n",
        "fig, axes = plt.subplots(1, 1, figsize=(8, 5))\n",
        "plt.plot(densenet_sgd.history['accuracy'], '--b', label='SGD')\n",
        "plt.plot(densenet_adagrad.history['accuracy'], '-g', label='AdaGrad')\n",
        "plt.plot(densenet_RMSprop.history['accuracy'], '-.c', label='RMSprop')\n",
        "plt.plot(densenet_nadam.history['accuracy'], '--m', label='Nadam')\n",
        "plt.plot(densenet_adam.history['accuracy'], '-y', label='Adam')\n",
        "#plt.plot(densenet_adadelta.history['accuracy'], '-.k', label='Adadelta')\n",
        "plt.plot(densenet_ftrl.history['accuracy'], '-.k', label='Ftrl')\n",
        "plt.plot(densenet_adamax.history['accuracy'], '--r', label='Adamax')\n",
        "plt.title(label = 'TRAIN ACCURACY', fontsize = 10, color = \"black\")\n",
        "plt.xlabel('Epoch')\n",
        "plt.ylabel('Accuracy')\n",
        "plt.legend()\n",
        "plt.show()\n",
        "fig.savefig('train_accuracy_02')"
      ],
      "execution_count": null,
      "outputs": [
        {
          "output_type": "display_data",
          "data": {
            "image/png": "[encoded data removed]",
            "text/plain": [
              "<Figure size 576x360 with 1 Axes>"
            ]
          },
          "metadata": {
            "tags": [],
            "needs_background": "light"
          }
        }
      ]
    },
    {
      "cell_type": "code",
      "metadata": {
        "colab": {
          "base_uri": "https://localhost:8080/",
          "height": 348
        },
        "id": "hWVNLMidCXy6",
        "outputId": "adc76cd0-951c-4dfe-fb64-fa747f72f0ae"
      },
      "source": [
        "# valid accuracy\n",
        "fig, axes = plt.subplots(1, 1, figsize=(8, 5))\n",
        "plt.plot(densenet_sgd.history['val_accuracy'], '--b', label='SGD')\n",
        "plt.plot(densenet_adagrad.history['val_accuracy'], '-g', label='AdaGrad')\n",
        "plt.plot(densenet_RMSprop.history['val_accuracy'], '-.c', label='RMSprop')\n",
        "plt.plot(densenet_nadam.history['val_accuracy'], '--m', label='Nadam')\n",
        "plt.plot(densenet_adam.history['val_accuracy'], '-y', label='Adam')\n",
        "#plt.plot(densenet_adadelta.history['val_accuracy'], '-.k', label='Adadelta')\n",
        "plt.plot(densenet_ftrl.history['val_accuracy'], '-.k', label='Ftrl')\n",
        "plt.plot(densenet_adamax.history['val_accuracy'], '--r', label='Adamax')\n",
        "plt.title(label = 'VALID ACCURACY', fontsize = 10, color = \"black\")\n",
        "plt.xlabel('Epoch')\n",
        "plt.ylabel('Accuracy')\n",
        "plt.legend()\n",
        "plt.show()\n",
        "fig.savefig('valid_accuracy_02')"
      ],
      "execution_count": null,
      "outputs": [
        {
          "output_type": "display_data",
          "data": {
            "image/png": "[encoded data removed]",
            "text/plain": [
              "<Figure size 576x360 with 1 Axes>"
            ]
          },
          "metadata": {
            "tags": [],
            "needs_background": "light"
          }
        }
      ]
    },
    {
      "cell_type": "markdown",
      "metadata": {
        "id": "2oqeBabdWRbQ"
      },
      "source": [
        "**The loss comparison charts:**"
      ]
    },
    {
      "cell_type": "code",
      "metadata": {
        "colab": {
          "base_uri": "https://localhost:8080/",
          "height": 348
        },
        "id": "f2CviVgRWUiy",
        "outputId": "6f6c5402-8bfc-4d96-e3a3-99c6cdbc121b"
      },
      "source": [
        "# train loss\n",
        "fig, axes = plt.subplots(1, 1, figsize=(8, 5))\n",
        "plt.plot(densenet_sgd.history['loss'], '--b', label='SGD')\n",
        "plt.plot(densenet_adagrad.history['loss'], '-g', label='AdaGrad')\n",
        "plt.plot(densenet_RMSprop.history['loss'], '-.c', label='RMSprop')\n",
        "plt.plot(densenet_nadam.history['loss'], '--m', label='Nadam')\n",
        "plt.plot(densenet_adam.history['loss'], '-y', label='Adam')\n",
        "#plt.plot(densenet_adadelta.history['loss'], '-.k', label='Adadelta')\n",
        "plt.plot(densenet_ftrl.history['loss'], '-.k', label='Ftrl')\n",
        "plt.plot(densenet_adamax.history['loss'], '--r', label='Adamax')\n",
        "plt.title(label = 'TRAIN LOSS', fontsize = 10, color = \"black\")\n",
        "plt.xlabel('Epoch')\n",
        "plt.ylabel('loss')\n",
        "plt.legend()\n",
        "plt.show()\n",
        "fig.savefig('train_loss_02')"
      ],
      "execution_count": null,
      "outputs": [
        {
          "output_type": "display_data",
          "data": {
            "image/png": "[encoded data removed]",
            "text/plain": [
              "<Figure size 576x360 with 1 Axes>"
            ]
          },
          "metadata": {
            "tags": [],
            "needs_background": "light"
          }
        }
      ]
    },
    {
      "cell_type": "code",
      "metadata": {
        "colab": {
          "base_uri": "https://localhost:8080/",
          "height": 348
        },
        "id": "V4etHPAPWYqr",
        "outputId": "7150702b-74d1-4806-a8aa-421f60e27060"
      },
      "source": [
        "# valid loss\n",
        "fig, axes = plt.subplots(1, 1, figsize=(8, 5))\n",
        "plt.plot(densenet_sgd.history['val_loss'], '--b', label='SGD')\n",
        "plt.plot(densenet_adagrad.history['val_loss'], '-g', label='AdaGrad')\n",
        "plt.plot(densenet_RMSprop.history['val_loss'], '-.c', label='RMSprop')\n",
        "plt.plot(densenet_nadam.history['val_loss'], '--m', label='Nadam')\n",
        "plt.plot(densenet_adam.history['val_loss'], '-y', label='Adam')\n",
        "#plt.plot(densenet_adadelta.history['val_loss'], '-.k', label='Adadelta')\n",
        "plt.plot(densenet_ftrl.history['val_loss'], '-.k', label='Ftrl')\n",
        "plt.plot(densenet_adamax.history['val_loss'], '--r', label='Adamax')\n",
        "plt.title(label = 'VALID LOSS', fontsize = 10, color = \"black\")\n",
        "plt.xlabel('Epoch')\n",
        "plt.ylabel('val_loss')\n",
        "plt.legend()\n",
        "plt.show()\n",
        "fig.savefig('valid_loss_02')"
      ],
      "execution_count": null,
      "outputs": [
        {
          "output_type": "display_data",
          "data": {
            "image/png": "[encoded data removed]",
            "text/plain": [
              "<Figure size 576x360 with 1 Axes>"
            ]
          },
          "metadata": {
            "tags": [],
            "needs_background": "light"
          }
        }
      ]
    },
    {
      "cell_type": "code",
      "metadata": {
        "id": "lnaRfr1ewl-3"
      },
      "source": [
        ""
      ],
      "execution_count": null,
      "outputs": []
    }
  ]
}